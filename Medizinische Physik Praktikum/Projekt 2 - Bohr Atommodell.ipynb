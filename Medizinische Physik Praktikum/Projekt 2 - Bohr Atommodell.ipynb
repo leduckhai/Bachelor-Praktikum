{
 "cells": [
  {
   "cell_type": "code",
   "execution_count": 1,
   "metadata": {},
   "outputs": [],
   "source": [
    "# Projekt 2 - Medizinische Physik\n",
    "# Le Duc Khai - 3089345\n",
    "# Nguyen Do Nhat Quynh - 3134205"
   ]
  },
  {
   "cell_type": "code",
   "execution_count": 2,
   "metadata": {
    "ExecuteTime": {
     "end_time": "2019-05-06T08:41:31.805512Z",
     "start_time": "2019-05-06T08:41:31.691871Z"
    }
   },
   "outputs": [],
   "source": [
    "import scipy.constants as sc\n",
    "import numpy as np"
   ]
  },
  {
   "cell_type": "code",
   "execution_count": 3,
   "metadata": {
    "ExecuteTime": {
     "end_time": "2019-05-03T10:29:11.430243Z",
     "start_time": "2019-05-03T10:29:11.424880Z"
    }
   },
   "outputs": [],
   "source": [
    "# Berechnen den Radius\n",
    "radius = sc.e**2/(4*np.pi*sc.epsilon_0)/(sc.Rydberg*sc.h*sc.c)/2"
   ]
  },
  {
   "cell_type": "code",
   "execution_count": 4,
   "metadata": {
    "ExecuteTime": {
     "end_time": "2019-05-03T10:35:31.089419Z",
     "start_time": "2019-05-03T10:35:31.085959Z"
    }
   },
   "outputs": [
    {
     "name": "stdout",
     "output_type": "stream",
     "text": [
      "Bei der Stufe n=1 ist der Radius: 5.291772106623518e-11 m\n"
     ]
    }
   ],
   "source": [
    "# Radius in m ausgegeben\n",
    "print('Bei der Stufe n=1 ist der Radius: %r m' %radius)"
   ]
  },
  {
   "cell_type": "code",
   "execution_count": 5,
   "metadata": {
    "ExecuteTime": {
     "end_time": "2019-05-03T10:38:35.659938Z",
     "start_time": "2019-05-03T10:38:35.656467Z"
    }
   },
   "outputs": [
    {
     "name": "stdout",
     "output_type": "stream",
     "text": [
      "Bei der Stufe n=1 ist der Radius: 52917.72106623518 fm\n"
     ]
    }
   ],
   "source": [
    "# Radius in fm ausgegeben\n",
    "print('Bei der Stufe n=1 ist der Radius: %r fm' %(radius*(10**15)))"
   ]
  },
  {
   "cell_type": "code",
   "execution_count": 6,
   "metadata": {},
   "outputs": [
    {
     "data": {
      "text/html": [
       "<div id=\"glowscript\" class=\"glowscript\"></div>"
      ],
      "text/plain": [
       "<IPython.core.display.HTML object>"
      ]
     },
     "metadata": {},
     "output_type": "display_data"
    },
    {
     "data": {
      "application/javascript": [
       "if (typeof Jupyter !== \"undefined\") { window.__context = { glowscript_container: $(\"#glowscript\").removeAttr(\"id\")};}else{ element.textContent = ' ';}"
      ],
      "text/plain": [
       "<IPython.core.display.Javascript object>"
      ]
     },
     "metadata": {},
     "output_type": "display_data"
    },
    {
     "data": {
      "application/javascript": [
       "if (typeof Jupyter !== \"undefined\") {require.undef(\"nbextensions/vpython_libraries/glow.min\");}else{element.textContent = ' ';}"
      ],
      "text/plain": [
       "<IPython.core.display.Javascript object>"
      ]
     },
     "metadata": {},
     "output_type": "display_data"
    },
    {
     "data": {
      "application/javascript": [
       "if (typeof Jupyter !== \"undefined\") {require.undef(\"nbextensions/vpython_libraries/glowcomm\");}else{element.textContent = ' ';}"
      ],
      "text/plain": [
       "<IPython.core.display.Javascript object>"
      ]
     },
     "metadata": {},
     "output_type": "display_data"
    },
    {
     "data": {
      "application/javascript": [
       "if (typeof Jupyter !== \"undefined\") {require.undef(\"nbextensions/vpython_libraries/jquery-ui.custom.min\");}else{element.textContent = ' ';}"
      ],
      "text/plain": [
       "<IPython.core.display.Javascript object>"
      ]
     },
     "metadata": {},
     "output_type": "display_data"
    },
    {
     "data": {
      "application/javascript": [
       "if (typeof Jupyter !== \"undefined\") {require([\"nbextensions/vpython_libraries/glow.min\"], function(){console.log(\"GLOW LOADED\");});}else{element.textContent = ' ';}"
      ],
      "text/plain": [
       "<IPython.core.display.Javascript object>"
      ]
     },
     "metadata": {},
     "output_type": "display_data"
    },
    {
     "data": {
      "application/javascript": [
       "if (typeof Jupyter !== \"undefined\") {require([\"nbextensions/vpython_libraries/glowcomm\"], function(){console.log(\"GLOWCOMM LOADED\");});}else{element.textContent = ' ';}"
      ],
      "text/plain": [
       "<IPython.core.display.Javascript object>"
      ]
     },
     "metadata": {},
     "output_type": "display_data"
    },
    {
     "data": {
      "application/javascript": [
       "if (typeof Jupyter !== \"undefined\") {require([\"nbextensions/vpython_libraries/jquery-ui.custom.min\"], function(){console.log(\"JQUERY LOADED\");});}else{element.textContent = ' ';}"
      ],
      "text/plain": [
       "<IPython.core.display.Javascript object>"
      ]
     },
     "metadata": {},
     "output_type": "display_data"
    }
   ],
   "source": [
    "from vpython import *\n",
    "# Erstellen einen Modell von Wasserstoffatom\n",
    "kern = sphere(pos=vector(0,0,0), radius=1, color=color.green)\n",
    "e1 = sphere(pos=vector(2,0,0), radius=0.2, color=color.red)\n",
    "e2 = sphere(pos=vector(8,0,0), radius=0.2, color=color.red)\n",
    "e3 = sphere(pos=vector(18,0,0), radius=0.2, color=color.red)\n",
    "bahn1 = []; bahn2 = []; bahn3 = []\n",
    "# Rotation von Elektron\n",
    "for i in range(1,201):\n",
    "    rate(20)\n",
    "    e1.rotate(angle=pi/100, axis=vector(0,0,1), origin=vector(0,0,0))\n",
    "    e2.rotate(angle=pi/40, axis=vector(0,0,1), origin=vector(0,0,0))\n",
    "    e3.rotate(angle=pi/20, axis=vector(0,0,1), origin=vector(0,0,0))\n",
    "    bahn1.append(e1.pos)\n",
    "    bahn1 = curve(e1.pos)\n",
    "    bahn2.append(e2.pos)\n",
    "    bahn2 = curve(e2.pos)\n",
    "    bahn3.append(e3.pos)\n",
    "    bahn3 = curve(e3.pos)"
   ]
  },
  {
   "cell_type": "code",
   "execution_count": 7,
   "metadata": {},
   "outputs": [
    {
     "name": "stdout",
     "output_type": "stream",
     "text": [
      "Bei n=1 ist die Coulombkraft: 8.238723365252157e-08 N\n"
     ]
    }
   ],
   "source": [
    "# Berechnen die Coulombkraft \n",
    "a0 = sc.physical_constants['Bohr radius'][0]\n",
    "kraft = sc.e**2/(4*np.pi*sc.epsilon_0*a0**2)\n",
    "print('Bei n=1 ist die Coulombkraft: %s N' %kraft)"
   ]
  },
  {
   "cell_type": "code",
   "execution_count": 8,
   "metadata": {},
   "outputs": [
    {
     "name": "stdout",
     "output_type": "stream",
     "text": [
      "Bei n=1 ist die Winkelgeschwindigkeit: 4.134137332760241e+16 rad/s und Geschwindigkeit: 2187691.262276778 m/s\n",
      "Bei n=2 ist die Winkelgeschwindigkeit: 5167671665950301.0 rad/s\n",
      "Das Winkelgeschwindigkeitsverhältnis n=1 und n=2 ist:  8.0\n",
      "Bei n=3 ist die Winkelgeschwindigkeit: 1531161975096385.2 rad/s\n",
      "Das Winkelgeschwindigkeitsverhältnis n=2 und n=3 ist:  3.3750000000000004\n"
     ]
    }
   ],
   "source": [
    "# Berechnen die Winkelgeschwindigkeit und Geschwindigkeit des Elektrons\n",
    "def Ges_e(n):\n",
    "    omega_n = n*sc.h/(2*np.pi*(a0*n**2)**2*sc.m_e)\n",
    "    v_n = omega_n*(a0*n**2)\n",
    "    return omega_n, v_n\n",
    "\n",
    "# n=1\n",
    "print('Bei n=1 ist die Winkelgeschwindigkeit: %s rad/s und Geschwindigkeit: %r m/s' %Ges_e(1))\n",
    "# n=2\n",
    "print('Bei n=2 ist die Winkelgeschwindigkeit: %r rad/s' %Ges_e(2)[0])\n",
    "print('Das Winkelgeschwindigkeitsverhältnis n=1 und n=2 ist: ', Ges_e(1)[0]/Ges_e(2)[0])\n",
    "# n=3\n",
    "print('Bei n=3 ist die Winkelgeschwindigkeit: %r rad/s' %Ges_e(3)[0])\n",
    "print('Das Winkelgeschwindigkeitsverhältnis n=2 und n=3 ist: ', Ges_e(2)[0]/Ges_e(3)[0])"
   ]
  },
  {
   "cell_type": "code",
   "execution_count": 9,
   "metadata": {},
   "outputs": [
    {
     "name": "stdout",
     "output_type": "stream",
     "text": [
      "Bei n=1 ist die Potentielle Energie: -27.211386018908332 eV\n"
     ]
    }
   ],
   "source": [
    "# Berechnen potentielle Energie\n",
    "def E_pot(n):\n",
    "    E_pot = -sc.e**2/(4*np.pi*sc.epsilon_0*(a0*n**2))/sc.e\n",
    "    return E_pot\n",
    "print('Bei n=1 ist die Potentielle Energie: %s eV' %E_pot(1))"
   ]
  },
  {
   "cell_type": "code",
   "execution_count": 10,
   "metadata": {},
   "outputs": [],
   "source": [
    "# Skizzieren den Graph\n",
    "gd1 = graph(xtitle='Radius in pm', ytitle='Energie in eV', background=color.white, title='Der Graph der Energie bei jeder Stufe') \n",
    "f1 = gcurve()\n",
    "energie = [-100] # -100eV ist definiert als minus inf\n",
    "for i in arange(1, 7):\n",
    "    energie.append(E_pot(i))\n",
    "for i in arange(0, 7):\n",
    "    f1.plot(a0*i**2*10**12,energie[i])"
   ]
  },
  {
   "cell_type": "code",
   "execution_count": 11,
   "metadata": {},
   "outputs": [
    {
     "name": "stdout",
     "output_type": "stream",
     "text": [
      "Bei m=2 und n=5 ist die Energiedifferenz 2.8571955320266698 eV, der Frequenz 690866811674593.9 Hz und die Wellenlänge 4.3393669073975674e-07 m\n"
     ]
    }
   ],
   "source": [
    "# Funktion der Energiedifferenz\n",
    "def E_dif(m,n):\n",
    "    E_dif = sc.Rydberg*sc.h*sc.c*abs(1/m**2 - 1/n**2)\n",
    "    frequenz = E_dif/sc.h\n",
    "    laenge = sc.c/frequenz\n",
    "    E_dif = E_dif/sc.e\n",
    "    return E_dif, frequenz, laenge\n",
    "\n",
    "# m=2 und n=5\n",
    "erg = E_dif(2,5)\n",
    "print('Bei m=2 und n=5 ist die Energiedifferenz %s eV, der Frequenz %s Hz und die Wellenlänge %s m'\n",
    "     % (erg[0], erg[1], erg[2]))"
   ]
  },
  {
   "cell_type": "code",
   "execution_count": 12,
   "metadata": {},
   "outputs": [],
   "source": [
    "# Energiedifferenz\n",
    "gd2 = graph(ytitle='Übergang', xtitle='Energiedifferenz in eV', title='Die Energiedifferenz') \n",
    "for i in range(2,7):\n",
    "    f2 = gcurve(markers=True, color=color.magenta)\n",
    "    f2.plot(E_dif(1,i)[0],i)\n",
    "    f2.plot(E_dif(1,i)[0],1)\n",
    "for i in range(3,8):\n",
    "    f2 = gcurve(markers=True, color=color.black)\n",
    "    f2.plot(E_dif(2,i)[0],i)\n",
    "    f2.plot(E_dif(2,i)[0],2)\n",
    "for i in range(4,9):\n",
    "    f2 = gcurve(markers=True, color=color.red)\n",
    "    f2.plot(E_dif(3,i)[0],i)\n",
    "    f2.plot(E_dif(3,i)[0],3)\n",
    "  \n",
    "# Wellenlänge\n",
    "gd3 = graph(ytitle='Übergang', xtitle='Wellenlänge in m', title='Die Wellenlänge') \n",
    "for i in range(2,7):\n",
    "    f3 = gcurve(markers=True, color=color.magenta)\n",
    "    f3.plot(E_dif(1,i)[2],i)\n",
    "    f3.plot(E_dif(1,i)[2],1)\n",
    "for i in range(3,8):\n",
    "    f3 = gcurve(markers=True, color=color.black)\n",
    "    f3.plot(E_dif(2,i)[2],i)\n",
    "    f3.plot(E_dif(2,i)[2],2)\n",
    "for i in range(4,9):\n",
    "    f3 = gcurve(markers=True, color=color.red)\n",
    "    f3.plot(E_dif(3,i)[2],i)\n",
    "    f3.plot(E_dif(3,i)[2],3)"
   ]
  },
  {
   "cell_type": "code",
   "execution_count": null,
   "metadata": {},
   "outputs": [],
   "source": []
  },
  {
   "cell_type": "code",
   "execution_count": null,
   "metadata": {},
   "outputs": [],
   "source": []
  }
 ],
 "metadata": {
  "kernelspec": {
   "display_name": "Python 3",
   "language": "python",
   "name": "python3"
  },
  "language_info": {
   "codemirror_mode": {
    "name": "ipython",
    "version": 3
   },
   "file_extension": ".py",
   "mimetype": "text/x-python",
   "name": "python",
   "nbconvert_exporter": "python",
   "pygments_lexer": "ipython3",
   "version": "3.7.1"
  },
  "varInspector": {
   "cols": {
    "lenName": 16,
    "lenType": 16,
    "lenVar": 40
   },
   "kernels_config": {
    "python": {
     "delete_cmd_postfix": "",
     "delete_cmd_prefix": "del ",
     "library": "var_list.py",
     "varRefreshCmd": "print(var_dic_list())"
    },
    "r": {
     "delete_cmd_postfix": ") ",
     "delete_cmd_prefix": "rm(",
     "library": "var_list.r",
     "varRefreshCmd": "cat(var_dic_list()) "
    }
   },
   "types_to_exclude": [
    "module",
    "function",
    "builtin_function_or_method",
    "instance",
    "_Feature"
   ],
   "window_display": true
  }
 },
 "nbformat": 4,
 "nbformat_minor": 2
}
