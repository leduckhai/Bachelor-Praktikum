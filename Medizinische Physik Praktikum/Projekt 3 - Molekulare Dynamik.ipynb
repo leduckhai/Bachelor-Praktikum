{
 "cells": [
  {
   "cell_type": "code",
   "execution_count": 1,
   "metadata": {},
   "outputs": [],
   "source": [
    "# Projekt 3\n",
    "# Le Duc Khai - 3089345\n",
    "# Nguyen Do Nhat Quynh - 3134205\n",
    "\n",
    "########################################"
   ]
  },
  {
   "cell_type": "code",
   "execution_count": 2,
   "metadata": {},
   "outputs": [
    {
     "data": {
      "text/html": [
       "<div id=\"glowscript\" class=\"glowscript\"></div>"
      ],
      "text/plain": [
       "<IPython.core.display.HTML object>"
      ]
     },
     "metadata": {},
     "output_type": "display_data"
    },
    {
     "data": {
      "application/javascript": [
       "if (typeof Jupyter !== \"undefined\") { window.__context = { glowscript_container: $(\"#glowscript\").removeAttr(\"id\")};}else{ element.textContent = ' ';}"
      ],
      "text/plain": [
       "<IPython.core.display.Javascript object>"
      ]
     },
     "metadata": {},
     "output_type": "display_data"
    },
    {
     "data": {
      "text/html": [
       "<div id=\"glowscript\" class=\"glowscript\"></div>"
      ],
      "text/plain": [
       "<IPython.core.display.HTML object>"
      ]
     },
     "metadata": {},
     "output_type": "display_data"
    },
    {
     "data": {
      "application/javascript": [
       "if (typeof Jupyter !== \"undefined\") { window.__context = { glowscript_container: $(\"#glowscript\").removeAttr(\"id\")};}else{ element.textContent = ' ';}"
      ],
      "text/plain": [
       "<IPython.core.display.Javascript object>"
      ]
     },
     "metadata": {},
     "output_type": "display_data"
    },
    {
     "data": {
      "application/javascript": [
       "if (typeof Jupyter !== \"undefined\") {require.undef(\"nbextensions/vpython_libraries/glow.min\");}else{element.textContent = ' ';}"
      ],
      "text/plain": [
       "<IPython.core.display.Javascript object>"
      ]
     },
     "metadata": {},
     "output_type": "display_data"
    },
    {
     "data": {
      "application/javascript": [
       "if (typeof Jupyter !== \"undefined\") {require.undef(\"nbextensions/vpython_libraries/glowcomm\");}else{element.textContent = ' ';}"
      ],
      "text/plain": [
       "<IPython.core.display.Javascript object>"
      ]
     },
     "metadata": {},
     "output_type": "display_data"
    },
    {
     "data": {
      "application/javascript": [
       "if (typeof Jupyter !== \"undefined\") {require.undef(\"nbextensions/vpython_libraries/jquery-ui.custom.min\");}else{element.textContent = ' ';}"
      ],
      "text/plain": [
       "<IPython.core.display.Javascript object>"
      ]
     },
     "metadata": {},
     "output_type": "display_data"
    },
    {
     "data": {
      "application/javascript": [
       "if (typeof Jupyter !== \"undefined\") {require([\"nbextensions/vpython_libraries/glow.min\"], function(){console.log(\"GLOW LOADED\");});}else{element.textContent = ' ';}"
      ],
      "text/plain": [
       "<IPython.core.display.Javascript object>"
      ]
     },
     "metadata": {},
     "output_type": "display_data"
    },
    {
     "data": {
      "application/javascript": [
       "if (typeof Jupyter !== \"undefined\") {require([\"nbextensions/vpython_libraries/glowcomm\"], function(){console.log(\"GLOWCOMM LOADED\");});}else{element.textContent = ' ';}"
      ],
      "text/plain": [
       "<IPython.core.display.Javascript object>"
      ]
     },
     "metadata": {},
     "output_type": "display_data"
    },
    {
     "data": {
      "application/javascript": [
       "if (typeof Jupyter !== \"undefined\") {require([\"nbextensions/vpython_libraries/jquery-ui.custom.min\"], function(){console.log(\"JQUERY LOADED\");});}else{element.textContent = ' ';}"
      ],
      "text/plain": [
       "<IPython.core.display.Javascript object>"
      ]
     },
     "metadata": {},
     "output_type": "display_data"
    }
   ],
   "source": [
    "from vpython import *\n",
    "\n",
    "# Vorbereitung\n",
    "# Erzeugung der Scene\n",
    "W = 10\n",
    "scene.delete()\n",
    "scene = canvas (width=800, height=800, center=vector(W/2,W/2,0), range=W/2, fov=0.01, autoscale=False, userzoom=False,userspin=False)\n",
    "\n",
    "# Start/stop-Prozess\n",
    "running = False\n",
    "\n",
    "def startstop():\n",
    "    global running\n",
    "    if running==False:\n",
    "        running = True\n",
    "    else:\n",
    "        running = False\n",
    "button(text=\"Start/Stop!\", bind=startstop)"
   ]
  },
  {
   "cell_type": "code",
   "execution_count": 3,
   "metadata": {},
   "outputs": [],
   "source": [
    "# Erzeugung der Atome\n",
    "N=25\n",
    "\n",
    "# Erzeugung der leere Liste\n",
    "x=[]; y=[]; \n",
    "vx=[]; vy=[]\n",
    "ax=[]; ay=[]\n",
    "ball=[]\n",
    "\n",
    "# Erstellen Parameter zur Verfolgung der X- und Y- Position\n",
    "rBall=0.5\n",
    "dBall=2*rBall\n",
    "ball_X=rBall; ball_Y=rBall\n",
    "rep_X=0; rep_Y=0\n",
    "for i in range(N):\n",
    "    vx.append (0)\n",
    "    vy.append (0)\n",
    "    ax.append (0)\n",
    "    ay.append (0)\n",
    "    \n",
    "    ball.append (sphere (pos=vector (ball_X + 2 * ball_X * rep_X, ball_Y + 2 * ball_Y * rep_Y, 0), radius=rBall, color=color.blue))\n",
    "    x.append (ball_X + 2 * ball_X * rep_X)\n",
    "    y.append (ball_Y + 2 * ball_Y * rep_Y)\n",
    "    \n",
    "    rep_X = rep_X+1\n",
    "    limitx = ball_X + 2 * ball_X * rep_X\n",
    "    \n",
    "    # Falls die andere Reihe voll ist, erzeugen wir die neue Reihe\n",
    "    if limitx > W-rBall:\n",
    "        rep_X=0\n",
    "        rep_Y=rep_Y+1\n",
    "        \n",
    "# Bewegung der Atome\n",
    "wallStiffness=50\n",
    "dt=0.02\n",
    "dtHalf=0.5*dt\n",
    "dtQHalf=dtHalf*dt"
   ]
  },
  {
   "cell_type": "code",
   "execution_count": 4,
   "metadata": {},
   "outputs": [],
   "source": [
    "# Funktionen der Beschleunigung\n",
    "def computeAccelerations():\n",
    "    for i in range (N):   \n",
    "        # Kollision mit Wand in X Richtung\n",
    "        if x[i] < 0.5:\n",
    "            ax[i] = wallStiffness * (0.5 - x[i])\n",
    "        elif x[i] > (W - 0.5):\n",
    "            ax[i] = wallStiffness * (W - 0.5 - x[i])\n",
    "        else:\n",
    "            ax[i] = 0.0\n",
    "        # Kollision mit Wand in Y Richtung\n",
    "        if y[i] < 0.5:\n",
    "            ay[i] = wallStiffness * (0.5 - y[i])\n",
    "        elif y[i] > (W - 0.5):\n",
    "            ay[i] = wallStiffness * (W - 0.5 - y[i])\n",
    "        else:\n",
    "            ay[i] = 0.0\n",
    "      \n",
    "        # Kollision mit Molekülen - Berechnung der X und Y Kräfte\n",
    "        for j in range (i):\n",
    "            rx_ji=x[i]-x[j]\n",
    "            ry_ji=y[i]-y[j]\n",
    "            rQuadratInv=1/(rx_ji*rx_ji+ry_ji*ry_ji)\n",
    "            if rQuadratInv>1/9:\n",
    "                rQuadratInv4 = rQuadratInv * rQuadratInv * rQuadratInv * rQuadratInv\n",
    "                rQuadratInv3 = rQuadratInv * rQuadratInv * rQuadratInv\n",
    "                rQuadratInv7 = rQuadratInv4 * rQuadratInv3\n",
    "            \n",
    "                ax[i] = ax[i] - 4 * (-12*(rQuadratInv7) + 6*(rQuadratInv4)) * rx_ji\n",
    "                ay[i] = ay[i] - 4 * (-12*(rQuadratInv7) + 6*(rQuadratInv4)) * ry_ji\n",
    "                \n",
    "                ax[j] = ax[j] + 4 * (-12*(rQuadratInv7) + 6*(rQuadratInv4)) * rx_ji\n",
    "                ay[j] = ay[j] + 4 * (-12*(rQuadratInv7) + 6*(rQuadratInv4)) * ry_ji"
   ]
  },
  {
   "cell_type": "code",
   "execution_count": 5,
   "metadata": {},
   "outputs": [],
   "source": [
    "# Funktion von Single Step\n",
    "def singleStep():\n",
    "    for i in range (N):\n",
    "        x[i] = x[i] + vx[i]*dt + ax[i]*dtQHalf\n",
    "        y[i] = y[i] + vy[i]*dt + ay[i]*dtQHalf\n",
    "        \n",
    "        vx[i]= vx[i] + ax[i]*dtHalf\n",
    "        vy[i]= vy[i] + ay[i]*dtHalf\n",
    "        \n",
    "        computeAccelerations()\n",
    "        \n",
    "        vx[i]= vx[i] + ax[i]*dtHalf\n",
    "        vy[i]= vy[i] + ay[i]*dtHalf\n"
   ]
  },
  {
   "cell_type": "code",
   "execution_count": null,
   "metadata": {},
   "outputs": [],
   "source": [
    "# Button: Energieeinstellung\n",
    "def EUp():\n",
    "    for i in range (N):\n",
    "        vx[i]=vx[i]*1.1\n",
    "        vy[i]=vy[i]*1.1\n",
    "button(text=\"Energie hinzufügen\", bind=EUp)\n",
    "\n",
    "def EDown():\n",
    "    for i in range (N):\n",
    "        vx[i]=vx[i]/1.1\n",
    "        vy[i]=vy[i]/1.1\n",
    "button(text=\"Energie entfernen\", bind=EDown)"
   ]
  },
  {
   "cell_type": "code",
   "execution_count": null,
   "metadata": {
    "scrolled": false
   },
   "outputs": [],
   "source": [
    "# Animation (unendliche Schleife)\n",
    "while True:\n",
    "    rate (35)\n",
    "    if running:    \n",
    "    #-singleStep wird nur einmal aufgerufen, um eine flüssige Animation zu erhalten\n",
    "        singleStep()\n",
    "    #-Update Position \n",
    "        for i in range (N):\n",
    "            ball[i].pos = vector (x[i], y[i], 0)"
   ]
  },
  {
   "cell_type": "code",
   "execution_count": null,
   "metadata": {},
   "outputs": [],
   "source": []
  }
 ],
 "metadata": {
  "kernelspec": {
   "display_name": "Python 3",
   "language": "python",
   "name": "python3"
  },
  "language_info": {
   "codemirror_mode": {
    "name": "ipython",
    "version": 3
   },
   "file_extension": ".py",
   "mimetype": "text/x-python",
   "name": "python",
   "nbconvert_exporter": "python",
   "pygments_lexer": "ipython3",
   "version": "3.7.1"
  }
 },
 "nbformat": 4,
 "nbformat_minor": 2
}
