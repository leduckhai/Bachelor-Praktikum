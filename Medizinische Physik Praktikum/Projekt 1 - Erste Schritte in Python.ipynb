{
 "cells": [
  {
   "cell_type": "code",
   "execution_count": 1,
   "metadata": {},
   "outputs": [],
   "source": [
    "# Medizinische Physik Praktikum\n",
    "# Project 1\n",
    "# Le Duc Khai - 3089345\n",
    "# Nguyen Do Nhat Quynh - 3134205\n",
    "# 16.04.2019"
   ]
  },
  {
   "cell_type": "code",
   "execution_count": 2,
   "metadata": {},
   "outputs": [
    {
     "name": "stdout",
     "output_type": "stream",
     "text": [
      "Hello, Jupiter-Notebook!\n"
     ]
    }
   ],
   "source": [
    "print(\"Hello, Jupiter-Notebook!\")"
   ]
  },
  {
   "cell_type": "code",
   "execution_count": 3,
   "metadata": {},
   "outputs": [
    {
     "data": {
      "text/html": [
       "<div id=\"glowscript\" class=\"glowscript\"></div>"
      ],
      "text/plain": [
       "<IPython.core.display.HTML object>"
      ]
     },
     "metadata": {},
     "output_type": "display_data"
    },
    {
     "data": {
      "application/javascript": [
       "if (typeof Jupyter !== \"undefined\") { window.__context = { glowscript_container: $(\"#glowscript\").removeAttr(\"id\")};}else{ element.textContent = ' ';}"
      ],
      "text/plain": [
       "<IPython.core.display.Javascript object>"
      ]
     },
     "metadata": {},
     "output_type": "display_data"
    }
   ],
   "source": [
    "from vpython import *"
   ]
  },
  {
   "cell_type": "code",
   "execution_count": 4,
   "metadata": {},
   "outputs": [
    {
     "data": {
      "application/javascript": [
       "if (typeof Jupyter !== \"undefined\") {require.undef(\"nbextensions/vpython_libraries/glow.min\");}else{element.textContent = ' ';}"
      ],
      "text/plain": [
       "<IPython.core.display.Javascript object>"
      ]
     },
     "metadata": {},
     "output_type": "display_data"
    },
    {
     "data": {
      "application/javascript": [
       "if (typeof Jupyter !== \"undefined\") {require.undef(\"nbextensions/vpython_libraries/glowcomm\");}else{element.textContent = ' ';}"
      ],
      "text/plain": [
       "<IPython.core.display.Javascript object>"
      ]
     },
     "metadata": {},
     "output_type": "display_data"
    },
    {
     "data": {
      "application/javascript": [
       "if (typeof Jupyter !== \"undefined\") {require.undef(\"nbextensions/vpython_libraries/jquery-ui.custom.min\");}else{element.textContent = ' ';}"
      ],
      "text/plain": [
       "<IPython.core.display.Javascript object>"
      ]
     },
     "metadata": {},
     "output_type": "display_data"
    },
    {
     "data": {
      "application/javascript": [
       "if (typeof Jupyter !== \"undefined\") {require([\"nbextensions/vpython_libraries/glow.min\"], function(){console.log(\"GLOW LOADED\");});}else{element.textContent = ' ';}"
      ],
      "text/plain": [
       "<IPython.core.display.Javascript object>"
      ]
     },
     "metadata": {},
     "output_type": "display_data"
    },
    {
     "data": {
      "application/javascript": [
       "if (typeof Jupyter !== \"undefined\") {require([\"nbextensions/vpython_libraries/glowcomm\"], function(){console.log(\"GLOWCOMM LOADED\");});}else{element.textContent = ' ';}"
      ],
      "text/plain": [
       "<IPython.core.display.Javascript object>"
      ]
     },
     "metadata": {},
     "output_type": "display_data"
    },
    {
     "data": {
      "application/javascript": [
       "if (typeof Jupyter !== \"undefined\") {require([\"nbextensions/vpython_libraries/jquery-ui.custom.min\"], function(){console.log(\"JQUERY LOADED\");});}else{element.textContent = ' ';}"
      ],
      "text/plain": [
       "<IPython.core.display.Javascript object>"
      ]
     },
     "metadata": {},
     "output_type": "display_data"
    }
   ],
   "source": [
    "box()"
   ]
  },
  {
   "cell_type": "code",
   "execution_count": 5,
   "metadata": {},
   "outputs": [],
   "source": [
    "box(pos=vector(1,0,0), size=vector(.5,.3,.2), color=color.red)\n",
    "box(pos=vector(1,1,1), size=vector(.5,.3,.2), color=color.blue)"
   ]
  },
  {
   "cell_type": "code",
   "execution_count": 6,
   "metadata": {},
   "outputs": [],
   "source": [
    "sphere(pos=vector(-2,2,1), radius=0.25)\n",
    "# sphere(pos=vector(-1,1,0))"
   ]
  },
  {
   "cell_type": "markdown",
   "metadata": {},
   "source": [
    "### Frage: \n",
    "Was passiert, wenn Sie bei dem Aufruf der Funktion sphere den Parameter radius auslassen?   \n",
    "### Antwort: \n",
    "Die Syntax sphere(radius=0.25) erzeugt eine Kugel mit dem Radius 0,25. Aber wenn man den Radius ausläßt, hat die Kugel standardmäßig den Radius 1."
   ]
  },
  {
   "cell_type": "code",
   "execution_count": 7,
   "metadata": {},
   "outputs": [],
   "source": [
    "sphere(pos=vector(-2,2,-1), radius=0.25, color=color.green)"
   ]
  },
  {
   "cell_type": "code",
   "execution_count": 8,
   "metadata": {},
   "outputs": [],
   "source": [
    "xaxis = cylinder(axis=vector(5,0,0), pos=vector(0,0,0), radius=0.01, color=color.gray(1.0))\n",
    "yaxis = cylinder(axis=vector(0,5,0), pos=xaxis.pos, radius=xaxis.radius, color=xaxis.color)\n",
    "zaxis = cylinder(axis=vector(0,0,5), pos=xaxis.pos, radius=xaxis.radius, color=xaxis.color)"
   ]
  },
  {
   "cell_type": "code",
   "execution_count": 9,
   "metadata": {},
   "outputs": [],
   "source": [
    "# Hantelform\n",
    "bar = cylinder(axis=vector(2,2,0), pos=vector(-1,-1,0), radius=0.1, color=color.yellow)\n",
    "sphere(pos=bar.pos+bar.axis, radius=bar.radius*3, color=bar.color)\n",
    "sphere(pos=bar.pos, radius=bar.radius*3, color=bar.color)"
   ]
  },
  {
   "cell_type": "code",
   "execution_count": 10,
   "metadata": {},
   "outputs": [],
   "source": [
    "# Erstellen eines Tisches aus einer Box und vier Zylindern\n",
    "tablex = 2.5; tabley = 0; tablez = 0\n",
    "tablelength = 2.5; tableheight = 2.5; tablewidth = 0.5\n",
    "legradius = 0.1\n",
    "table = box(pos=vector(1,-1,3), axis=vector(tablex,tabley,tablez), length=tablelength, height=tableheight, width=tablewidth, color=color.orange)\n",
    "leg1 = cylinder(axis=vector(0,0,-2), pos=vector(0,0,3), radius=legradius, color=table.color)\n",
    "leg2 = cylinder(axis=vector(0,0,-2), pos=vector(0,-2,3), radius=legradius, color=table.color)\n",
    "leg3 = cylinder(axis=vector(0,0,-2), pos=vector(2,0,3), radius=legradius, color=table.color)\n",
    "leg4 = cylinder(axis=vector(0,0,-2), pos=vector(2,-2,3), radius=legradius, color=table.color)"
   ]
  },
  {
   "cell_type": "code",
   "execution_count": 11,
   "metadata": {},
   "outputs": [],
   "source": [
    "# Ein erstes Fenster\n",
    "scene.background = color.white\n",
    "scene.range = 5"
   ]
  },
  {
   "cell_type": "code",
   "execution_count": 12,
   "metadata": {},
   "outputs": [
    {
     "data": {
      "text/html": [
       "<div id=\"glowscript\" class=\"glowscript\"></div>"
      ],
      "text/plain": [
       "<IPython.core.display.HTML object>"
      ]
     },
     "metadata": {},
     "output_type": "display_data"
    },
    {
     "data": {
      "application/javascript": [
       "if (typeof Jupyter !== \"undefined\") { window.__context = { glowscript_container: $(\"#glowscript\").removeAttr(\"id\")};}else{ element.textContent = ' ';}"
      ],
      "text/plain": [
       "<IPython.core.display.Javascript object>"
      ]
     },
     "metadata": {},
     "output_type": "display_data"
    }
   ],
   "source": [
    "# Ein zweites Fenster\n",
    "c2 = canvas(title='Ein zweites Fenster', background = color.white)"
   ]
  },
  {
   "cell_type": "markdown",
   "metadata": {},
   "source": [
    "### Animation"
   ]
  },
  {
   "cell_type": "code",
   "execution_count": 13,
   "metadata": {},
   "outputs": [
    {
     "name": "stdout",
     "output_type": "stream",
     "text": [
      "Die Bewegung endet\n"
     ]
    }
   ],
   "source": [
    "movingBox = box(pos=vector(-5,0,0), size=vector(.5,.3,.2), color=color.red, make_trail=True)\n",
    "# Bewegen einer Box in einer geraden Linie\n",
    "while movingBox.pos.x <5:\n",
    "    rate(50)\n",
    "    movingBox.pos.x += 0.05\n",
    "print('Die Bewegung endet')"
   ]
  },
  {
   "cell_type": "code",
   "execution_count": 14,
   "metadata": {},
   "outputs": [
    {
     "data": {
      "text/html": [
       "<div id=\"glowscript\" class=\"glowscript\"></div>"
      ],
      "text/plain": [
       "<IPython.core.display.HTML object>"
      ]
     },
     "metadata": {},
     "output_type": "display_data"
    },
    {
     "data": {
      "application/javascript": [
       "if (typeof Jupyter !== \"undefined\") { window.__context = { glowscript_container: $(\"#glowscript\").removeAttr(\"id\")};}else{ element.textContent = ' ';}"
      ],
      "text/plain": [
       "<IPython.core.display.Javascript object>"
      ]
     },
     "metadata": {},
     "output_type": "display_data"
    },
    {
     "name": "stdout",
     "output_type": "stream",
     "text": [
      "Die Bewegung endet\n"
     ]
    }
   ],
   "source": [
    "c3 = canvas(title='Ein drittes Fenster', background = color.white)\n",
    "movingBox = box(pos=vector(-5,0,0), size=vector(.5,.3,.2), color=color.red, make_trail=True)\n",
    "# Ändern die Rate zu 60\n",
    "while movingBox.pos.x <5:\n",
    "    rate(60)\n",
    "    movingBox.pos.x += 0.05\n",
    "print('Die Bewegung endet')"
   ]
  },
  {
   "cell_type": "code",
   "execution_count": 15,
   "metadata": {},
   "outputs": [
    {
     "data": {
      "text/html": [
       "<div id=\"glowscript\" class=\"glowscript\"></div>"
      ],
      "text/plain": [
       "<IPython.core.display.HTML object>"
      ]
     },
     "metadata": {},
     "output_type": "display_data"
    },
    {
     "data": {
      "application/javascript": [
       "if (typeof Jupyter !== \"undefined\") { window.__context = { glowscript_container: $(\"#glowscript\").removeAttr(\"id\")};}else{ element.textContent = ' ';}"
      ],
      "text/plain": [
       "<IPython.core.display.Javascript object>"
      ]
     },
     "metadata": {},
     "output_type": "display_data"
    },
    {
     "name": "stdout",
     "output_type": "stream",
     "text": [
      "Die Bewegung endet\n"
     ]
    }
   ],
   "source": [
    "c4 = canvas(title='Ein viertes Fenster', background = color.white)\n",
    "movingBox = box(pos=vector(-5,5,0), size=vector(.5,.3,.2), color=color.red, make_trail=True)\n",
    "# Der Box bewegt in diagonaler Richtung\n",
    "while movingBox.pos.x<5 and movingBox.pos.y>-5:\n",
    "    rate(50)\n",
    "    movingBox.pos.x += 0.05\n",
    "    movingBox.pos.y -= 0.05\n",
    "print('Die Bewegung endet')"
   ]
  },
  {
   "cell_type": "code",
   "execution_count": 16,
   "metadata": {},
   "outputs": [
    {
     "name": "stdout",
     "output_type": "stream",
     "text": [
      "Die Bewegung endet\n"
     ]
    }
   ],
   "source": [
    "# Die Kugel dreht um (0,0)-Zentrum\n",
    "import numpy as np\n",
    "phi = 0\n",
    "x = []\n",
    "y = []\n",
    "movingSphere = sphere(pos=vector(2,0,0), radius=0.25, color=color.green, make_trail=True)\n",
    "while np.sin(phi)<=1 and np.cos(phi)<=1:\n",
    "    rate(50)\n",
    "    movingSphere.pos.x = 2*np.cos(phi)\n",
    "    x.append(movingSphere.pos.x) \n",
    "    movingSphere.pos.y = 2*np.sin(phi)\n",
    "    y.append(movingSphere.pos.y)\n",
    "    if phi > 2*np.pi:\n",
    "        break\n",
    "    phi = phi+0.1\n",
    "print('Die Bewegung endet')"
   ]
  },
  {
   "cell_type": "markdown",
   "metadata": {},
   "source": [
    "### Graphen"
   ]
  },
  {
   "cell_type": "code",
   "execution_count": 17,
   "metadata": {},
   "outputs": [],
   "source": [
    "# Skizzieren den Graph und addieren die Attribute\n",
    "gd = graph(width=400, height=250, xtitle='x-Achse', ytitle='y-Achse', background=color.white,\n",
    "          title='Der Graph der Bewegung der Kugel', xmin=0, xmax=63, ymin=-3, ymax=3) \n",
    "xDots = gdots(color=color.green) \n",
    "yDots = gdots(color=color.magenta)\n",
    "for t in range(0,len(x)):\n",
    "    xDots.plot(t,x[t])\n",
    "    yDots.plot(t,y[t])"
   ]
  },
  {
   "cell_type": "code",
   "execution_count": null,
   "metadata": {},
   "outputs": [],
   "source": []
  }
 ],
 "metadata": {
  "kernelspec": {
   "display_name": "VPython",
   "language": "python",
   "name": "vpython"
  },
  "language_info": {
   "codemirror_mode": {
    "name": "ipython",
    "version": 3
   },
   "file_extension": ".py",
   "mimetype": "text/x-python",
   "name": "python",
   "nbconvert_exporter": "python",
   "pygments_lexer": "ipython3",
   "version": "3.7.1"
  }
 },
 "nbformat": 4,
 "nbformat_minor": 2
}
