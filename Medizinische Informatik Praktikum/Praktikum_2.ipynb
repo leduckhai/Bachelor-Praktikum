{
 "cells": [
  {
   "cell_type": "markdown",
   "metadata": {
    "lang": "en"
   },
   "source": [
    "# Praktikum 2"
   ]
  },
  {
   "cell_type": "markdown",
   "metadata": {},
   "source": [
    "Bitte führen Sie die folgende Zelle aus, um benötigte Python Module zu laden."
   ]
  },
  {
   "cell_type": "code",
   "execution_count": 1,
   "metadata": {
    "ExecuteTime": {
     "end_time": "2019-04-21T02:10:50.585460Z",
     "start_time": "2019-04-21T02:10:49.987651Z"
    }
   },
   "outputs": [],
   "source": [
    "import numpy as np\n",
    "import matplotlib.pyplot as plt\n",
    "from scipy import signal"
   ]
  },
  {
   "cell_type": "markdown",
   "metadata": {},
   "source": [
    "## Bitmanipulationen"
   ]
  },
  {
   "cell_type": "markdown",
   "metadata": {},
   "source": [
    "Eine Temperaturmessstation mißt in regelmäßigen Abständen die Umgebungstemperatur. Jeder gemessene Wert M ist ein 7-Bit Wert im folgenden Format:\n",
    "\n",
    "| V | T5 | T4 | T3 | T2 | T1 | T0 |\n",
    "\n",
    "T5-T0 bilden eine Binärzahl. V ist 0, wenn die Binärzahl negativ ist und 1, wenn sie positiv ist.\n",
    "\n",
    "D.h. der Wertebereich ist von $-2^6-1$ bis $2^6-1$. Bei einem Wert von 0 spielt das Vorzeichen keine Rolle und kann ignoriert werden.\n",
    "\n",
    "Beispiel:\n",
    "\n",
    "0100000 : 32°C  \n",
    "1001000 : -8°C\n",
    "\n",
    "Um viele Messwerte ressourcensparend zu übertragen werden sie aneinandergehängt und als ein langer Bitstream übertragen, wobei der älteste Messwert als erstes übertragen wird:\n",
    "\n",
    "$M_nM_{n-1}...M_0$ -> Ihr Computer\n",
    "\n",
    "**Aufgabe:** Implementieren Sie die folgende Funktion, die als Eingabe einen Bitstream in Form eines Integers erhält und als Ausgabe eine Liste mit den einzelnen Messwerten zurück liefert.\n",
    "\n",
    "Zum Testen Ihrer Funktion können Sie den folgenden Bitstream verwenden:  \n",
    "001111100111010011110001111000111000010111001100000110110011000001000100101000010111001011000100100001110000111000010100001111000011100010010000101000100000001001000001\n",
    "\n",
    "Als Dezimalzahl lautet der Bitstream:  \n",
    "91280738743542157185825863987460161568160524403265"
   ]
  },
  {
   "cell_type": "code",
   "execution_count": 2,
   "metadata": {
    "ExecuteTime": {
     "end_time": "2019-04-21T02:10:50.614638Z",
     "start_time": "2019-04-21T02:10:50.587668Z"
    }
   },
   "outputs": [
    {
     "name": "stdout",
     "output_type": "stream",
     "text": [
      "91280738743542157185825863987460161568160524403265\n",
      "91280738743542157185825863987460161568160524403265\n"
     ]
    }
   ],
   "source": [
    "def decode_stream(stream):\n",
    "    \"\"\"\n",
    "    This function decodes a bitstream of temperature values and returns a list of the decoded measurements.\n",
    "    \n",
    "    Parameters:\n",
    "        stream : integer\n",
    "            The bitstream of temperature measurements.\n",
    "        \n",
    "    Returns:\n",
    "        A list of measurements\n",
    "    \"\"\"\n",
    "    \n",
    "    # The input parameter must be in string to assure no first 0-digits to be removed\n",
    "    if isinstance(stream, str) == False:\n",
    "        raise NameError('The input parameter must be in string to assure no first 0-digits to be removed')\n",
    "    # Convert the input string into integer array\n",
    "    bin = []\n",
    "    for i in stream:\n",
    "        bin.append(int(i))\n",
    "    # Calculate the array length\n",
    "    l = len(bin)\n",
    "    # Main loop\n",
    "    dec = 0\n",
    "    for i in range(1,l):\n",
    "        dec = dec + bin[i]*(2**(l-i-1))\n",
    "    if bin[0] == 1:\n",
    "        dec = -dec\n",
    "    return dec\n",
    "\n",
    "# The following line call your function and return the result\n",
    "bitstream = 0b001111100111010011110001111000111000010111001100000110110011000001000100101000010111001011000100100001110000111000010100001111000011100010010000101000100000001001000001\n",
    "print(bitstream)\n",
    "\n",
    "# Validation of our function\n",
    "stream = '001111100111010011110001111000111000010111001100000110110011000001000100101000010111001011000100100001110000111000010100001111000011100010010000101000100000001001000001'\n",
    "print(decode_stream(stream))"
   ]
  },
  {
   "cell_type": "markdown",
   "metadata": {},
   "source": [
    "**Aufgabe:** Plotten Sie die Temperaturwerte in einem Graphen."
   ]
  },
  {
   "cell_type": "code",
   "execution_count": 12,
   "metadata": {
    "ExecuteTime": {
     "end_time": "2019-04-21T02:15:58.930658Z",
     "start_time": "2019-04-21T02:15:58.780400Z"
    }
   },
   "outputs": [
    {
     "data": {
      "image/png": "[encoded data removed]",
      "text/plain": [
       "<matplotlib.figure.Figure at 0x7f9358dd9978>"
      ]
     },
     "metadata": {
      "needs_background": "light"
     },
     "output_type": "display_data"
    }
   ],
   "source": [
    "dec = decode_stream(stream)\n",
    "y = []\n",
    "for i in str(dec):\n",
    "    y.append(int(i))\n",
    "x = range(len(y))\n",
    "\n",
    "plt.plot(x, y)\n",
    "plt.show()"
   ]
  },
  {
   "cell_type": "markdown",
   "metadata": {},
   "source": [
    "**Aufgabe:** Sie sind mit dem Aussehen des Graphen noch nicht zufrieden. Implementieren Sie die folgende Funktion, die jeweils einen Mittelwert von drei aufeinanderfolgenden Werten berechnet.\n",
    "\n",
    "Beispiel:  \n",
    "Originalwerte: 0, 1, 2, 3, 4, 5, 6  \n",
    "Moving average: (0+1+2)/3, (1+2+3)/3, (2+3+4)/3, ...  \n"
   ]
  },
  {
   "cell_type": "code",
   "execution_count": 16,
   "metadata": {
    "ExecuteTime": {
     "end_time": "2019-04-21T02:21:50.617425Z",
     "start_time": "2019-04-21T02:21:50.603207Z"
    },
    "scrolled": true
   },
   "outputs": [
    {
     "name": "stdout",
     "output_type": "stream",
     "text": [
      "[4.0, 3.6666666666666665, 3.3333333333333335, 5.0, 3.3333333333333335, 6.0, 6.0, 6.333333333333333, 4.666666666666667, 4.0, 4.0, 3.6666666666666665, 2.3333333333333335, 2.6666666666666665, 4.333333333333333, 4.333333333333333, 5.333333333333333, 4.666666666666667, 7.0, 5.0, 5.0, 5.0, 6.333333333333333, 5.666666666666667, 6.0, 6.666666666666667, 8.0, 6.333333333333333, 5.666666666666667, 3.3333333333333335, 2.3333333333333335, 2.3333333333333335, 2.6666666666666665, 4.0, 4.0, 6.333333333333333, 5.0, 5.0, 2.3333333333333335, 3.6666666666666665, 2.3333333333333335, 3.6666666666666665, 3.3333333333333335, 2.6666666666666665, 2.3333333333333335, 1.6666666666666667, 3.6666666666666665, 4.333333333333333]\n"
     ]
    }
   ],
   "source": [
    "def moving_average(m):\n",
    "    \"\"\"\n",
    "    Calculates the moving average of a given numpy array.\n",
    "    \n",
    "    Parameters:\n",
    "        m : numpy.array\n",
    "            The values of the signal.\n",
    "    \n",
    "    Returns:\n",
    "        A new numpy.array\n",
    "    \"\"\"\n",
    "    \n",
    "    # Convert the input string into integer array\n",
    "    avg = []\n",
    "    for i in str(m):\n",
    "        avg.append(int(i))\n",
    "    # Main loop\n",
    "    mov_avg = []\n",
    "    for i in range(0,len(avg)-2):\n",
    "        mov_avg.append(np.mean([avg[i],avg[i+1],avg[i+2]], axis=0))\n",
    "    return mov_avg\n",
    "\n",
    "# The following line decodes a bitstream calculates a moving average and prints the result\n",
    "print(moving_average(decode_stream(stream)))"
   ]
  },
  {
   "cell_type": "markdown",
   "metadata": {},
   "source": [
    "**Aufgabe:** Plotten Sie erneut das verarbeitete Temperatursignal erneut. Was fällt Ihnen auf?"
   ]
  },
  {
   "cell_type": "code",
   "execution_count": 11,
   "metadata": {
    "ExecuteTime": {
     "end_time": "2019-04-21T02:15:39.555091Z",
     "start_time": "2019-04-21T02:15:39.407247Z"
    }
   },
   "outputs": [
    {
     "data": {
      "image/png": "[encoded data removed]",
      "text/plain": [
       "<matplotlib.figure.Figure at 0x7f9358dbeeb8>"
      ]
     },
     "metadata": {
      "needs_background": "light"
     },
     "output_type": "display_data"
    }
   ],
   "source": [
    "# The moving average array got its length 2 units less than the former's\n",
    "y_mov = moving_average(decode_stream(stream))\n",
    "x_mov = range(len(y_mov))\n",
    "plt.plot(x_mov, y_mov)\n",
    "plt.show()"
   ]
  },
  {
   "cell_type": "markdown",
   "metadata": {},
   "source": [
    "## Elementarsignale"
   ]
  },
  {
   "cell_type": "markdown",
   "metadata": {},
   "source": [
    "In der diskreten Welt nutz man anstelle des Dirac Delta Impulses das Kronecker Delta, welches an der Stelle t=0 den Wert 1 hat, ansonsten 0.\n",
    "\n",
    "Das Submodul Signal des Moduls Scipy besitzt eine Funktion ```unit_impulse()``` ([Dokumentation](https://docs.scipy.org/doc/scipy/reference/generated/scipy.signal.unit_impulse.html)), die einen Kronecker Delta mit einer beliebigen Länge erzeugt.\n",
    "\n",
    "**Aufgabe:** Erzeugen Sie eine Kronecker Delta Impuls der Länge 100 und plotten Sie das Ergebnis."
   ]
  },
  {
   "cell_type": "code",
   "execution_count": 17,
   "metadata": {
    "ExecuteTime": {
     "end_time": "2019-04-21T02:57:17.836173Z",
     "start_time": "2019-04-21T02:57:17.682224Z"
    }
   },
   "outputs": [
    {
     "data": {
      "text/plain": [
       "[<matplotlib.lines.Line2D at 0x7f9412741400>]"
      ]
     },
     "execution_count": 17,
     "metadata": {},
     "output_type": "execute_result"
    },
    {
     "data": {
      "image/png": "[encoded data removed]",
      "text/plain": [
       "<matplotlib.figure.Figure at 0x7f9420097208>"
      ]
     },
     "metadata": {
      "needs_background": "light"
     },
     "output_type": "display_data"
    }
   ],
   "source": [
    "imp = signal.unit_impulse(100,1)\n",
    "plt.plot(np.arange(-50, 50), imp)"
   ]
  },
  {
   "cell_type": "markdown",
   "metadata": {},
   "source": [
    "Ein Signal x(t) wird um t0 Einheiten nach rechts verschoben, indem man x(t-t0) berechnet. Die Funktion unit_impulse akzeptiert einen zweiten Parameter, der die Verschiebung definiert.\n",
    "\n",
    "**Aufgabe:** Plotten Sie einen um 10 nach rechts verschobenen Dirac Impuls."
   ]
  },
  {
   "cell_type": "code",
   "execution_count": 28,
   "metadata": {
    "ExecuteTime": {
     "end_time": "2019-04-22T04:28:48.802130Z",
     "start_time": "2019-04-22T04:28:48.392037Z"
    }
   },
   "outputs": [
    {
     "data": {
      "image/png": "[encoded data removed]",
      "text/plain": [
       "<matplotlib.figure.Figure at 0x7f935569f7b8>"
      ]
     },
     "metadata": {
      "needs_background": "light"
     },
     "output_type": "display_data"
    }
   ],
   "source": [
    "for i in range(0,10):\n",
    "    mov_imp = signal.unit_impulse(100,i)\n",
    "    plt.plot(np.arange(-50, 50), mov_imp)"
   ]
  },
  {
   "cell_type": "markdown",
   "metadata": {},
   "source": [
    "Als nächstes wollen wir ein Cosinus Signal ausgeben. Es ist definiert als x(t) = Acos(2\\*pi\\*f\\*t + phi).\n",
    "\n",
    "**Aufgabe:** Implementieren Sie dazu die folgende Funktion. Beachten Sie bitte die Kommentare/Hinweise im Code."
   ]
  },
  {
   "cell_type": "code",
   "execution_count": 57,
   "metadata": {
    "ExecuteTime": {
     "end_time": "2019-04-23T12:47:43.863816Z",
     "start_time": "2019-04-23T12:47:43.835682Z"
    },
    "run_control": {
     "marked": true
    }
   },
   "outputs": [],
   "source": [
    "def sine_wave(f=10, phi=0, A=1, t=1, Fs=100):\n",
    "    \"\"\"\n",
    "    This function creates a sine wave of the given frequency, duration, a phase angle using Fs samples per second.\n",
    "    \n",
    "    Parameters:\n",
    "        f : int\n",
    "            The frequency of the sine wave in Hz.\n",
    "        phi : int\n",
    "            The phase angle in radians\n",
    "        A : float\n",
    "            The amplitude\n",
    "        t : float\n",
    "            The duration (0..t) in s\n",
    "        Fs : int\n",
    "            The sampling rate (samples per second)\n",
    "        \n",
    "    Returns:\n",
    "        Numpy Array with the generated signal\n",
    "            \n",
    "    \"\"\"\n",
    "    \n",
    "    omega = 2*np.pi*f \n",
    "    Ts    = 1/Fs\n",
    "    N     = int(t/Ts) # total number of samples for the given duration and sample rate\n",
    "    \n",
    "    # some additional information just for fun\n",
    "    cycles =   t/(1/f) # number of cycles of the sine wave that will be plot\n",
    "    samples_per_cycle = int(N/cycles) # number of samples per cycle\n",
    "    \n",
    "    # Create a numpy array with N discrete points in time starting\n",
    "    # from 0 with a step size of Ts.    \n",
    "    t_vec = []\n",
    "    for i in range(0,N):\n",
    "        t_vec.append(i*Ts)\n",
    "        \n",
    "    # Now calculate the sine wave as numpy array\n",
    "    x_vec = []\n",
    "    for i in range(0,N):\n",
    "        x_vec.append(A*np.sin(omega*t_vec[i] + phi))\n",
    "    \n",
    "    d = {\"total\" : N, \"cycles\" : cycles, \"samples_per_cycle\" : samples_per_cycle}\n",
    "    \n",
    "    return t_vec, x_vec, d"
   ]
  },
  {
   "cell_type": "markdown",
   "metadata": {},
   "source": [
    "Wenn Sie alles richtig gemacht haben, dann sollten Sie einen Plot einer Sinusfunktion sehen, wenn Sie die nachfolgende Zelle ausführen."
   ]
  },
  {
   "cell_type": "code",
   "execution_count": 58,
   "metadata": {
    "ExecuteTime": {
     "end_time": "2019-04-23T12:47:46.013879Z",
     "start_time": "2019-04-23T12:47:45.813188Z"
    }
   },
   "outputs": [
    {
     "data": {
      "image/png": "[encoded data removed]",
      "text/plain": [
       "<matplotlib.figure.Figure at 0x7f935236cda0>"
      ]
     },
     "metadata": {
      "needs_background": "light"
     },
     "output_type": "display_data"
    },
    {
     "name": "stdout",
     "output_type": "stream",
     "text": [
      "Number of cycles:  10.0\n",
      "Total samples:  1000\n",
      "Samples per cycle:  100\n"
     ]
    }
   ],
   "source": [
    "t, x, infos = sine_wave(f=10, Fs=1000)\n",
    "plt.plot(t, x, '-')\n",
    "plt.show()\n",
    "print(\"Number of cycles: \", infos[\"cycles\"])\n",
    "print(\"Total samples: \", infos[\"total\"])\n",
    "print(\"Samples per cycle: \", infos[\"samples_per_cycle\"])"
   ]
  },
  {
   "cell_type": "markdown",
   "metadata": {},
   "source": [
    "# Frohe Osterfeiertage! :-)"
   ]
  },
  {
   "cell_type": "code",
   "execution_count": null,
   "metadata": {},
   "outputs": [],
   "source": []
  }
 ],
 "metadata": {
  "hide_input": false,
  "kernelspec": {
   "display_name": "Python 3",
   "language": "python",
   "name": "python3"
  },
  "language_info": {
   "codemirror_mode": {
    "name": "ipython",
    "version": 3
   },
   "file_extension": ".py",
   "mimetype": "text/x-python",
   "name": "python",
   "nbconvert_exporter": "python",
   "pygments_lexer": "ipython3",
   "version": "3.5.4"
  },
  "nbTranslate": {
   "displayLangs": [
    "*"
   ],
   "hotkey": "alt-t",
   "langInMainMenu": true,
   "sourceLang": "en",
   "targetLang": "fr",
   "useGoogleTranslate": true
  },
  "toc": {
   "base_numbering": 1,
   "nav_menu": {},
   "number_sections": true,
   "sideBar": true,
   "skip_h1_title": false,
   "title_cell": "Table of Contents",
   "title_sidebar": "Contents",
   "toc_cell": false,
   "toc_position": {},
   "toc_section_display": true,
   "toc_window_display": true
  },
  "varInspector": {
   "cols": {
    "lenName": 16,
    "lenType": 16,
    "lenVar": 40
   },
   "kernels_config": {
    "python": {
     "delete_cmd_postfix": "",
     "delete_cmd_prefix": "del ",
     "library": "var_list.py",
     "varRefreshCmd": "print(var_dic_list())"
    },
    "r": {
     "delete_cmd_postfix": ") ",
     "delete_cmd_prefix": "rm(",
     "library": "var_list.r",
     "varRefreshCmd": "cat(var_dic_list()) "
    }
   },
   "oldHeight": 295.2,
   "position": {
    "height": "316px",
    "left": "911px",
    "right": "20px",
    "top": "112px",
    "width": "350px"
   },
   "types_to_exclude": [
    "module",
    "function",
    "builtin_function_or_method",
    "instance",
    "_Feature"
   ],
   "varInspector_section_display": "block",
   "window_display": true
  }
 },
 "nbformat": 4,
 "nbformat_minor": 2
}
