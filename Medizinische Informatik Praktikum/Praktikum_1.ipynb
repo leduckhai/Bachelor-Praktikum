{
 "cells": [
  {
   "cell_type": "markdown",
   "metadata": {},
   "source": [
    "# Praktikum 1"
   ]
  },
  {
   "cell_type": "markdown",
   "metadata": {},
   "source": [
    "Wenn Sie das hier lesen können, dann haben Sie den ersten Schritt erfolgreich gemeistert: Sie können *Jupyter Notebook* starten und ein bestehendes Notebook ausführen.\n",
    "\n",
    "Dieses Praktikum Nr. 1 dreht sich hauptsächlich um die Programmiersprachen *Python*. Sie werden sich mit Variablen, Schleifen und weiteren Sprachkonstrukten vertraut machen und die Anwednung üben. Darüber hinaus werden Sie sich mit zusätzlichen Python Module vertraut machen, die Sie in Python immer wieder benötigen werden."
   ]
  },
  {
   "cell_type": "markdown",
   "metadata": {},
   "source": [
    "## Jupyter Notebooks"
   ]
  },
  {
   "cell_type": "markdown",
   "metadata": {},
   "source": [
    "Bevor wir anfangen, erstmal ein paar Worte zu Jupyter Notebooks. Wie in der Vorlesung erklärt, bestehen Jupyter Notebooks aus sogenannten *Zellen*. Alles ist eine Zelle. Auch dieser Text, den Sie gerade lesen, wurde in einer speziellen Zelle geschrieben."
   ]
  },
  {
   "cell_type": "markdown",
   "metadata": {},
   "source": [
    "### Zellen ausführen"
   ]
  },
  {
   "cell_type": "markdown",
   "metadata": {},
   "source": [
    "**Aufgabe:** Klicken Sie mit der linken Maustaste doppelt auf diese Zelle.\n",
    "\n",
    "Das Aussehen dieser Zelle hat sich ein wenig geändert und Sie sehen einen Curser, der es Ihnen erlaubt, diese Zelle zu editieren. Anstatt mit der Maus einen Doppelklick auszuführen können Sie auch einfach ```Return``` drücken.\n",
    "\n",
    "**Aufgabe:** Schreiben Sie einen beliebigen Text an Stelle der Punkte: ......  \n",
    "\n",
    "Nachdem Sie eine Zelle fertig editiert habe, müssen Sie die ```Shift + Return``` drücken, um sie auszuführen.\n",
    "\n",
    "**Aufgabe:** Jetzt ist eine guter Zeitpunkt, um diese Zelle auszuführen. Drücken Sie ```Shift + Return```."
   ]
  },
  {
   "cell_type": "markdown",
   "metadata": {},
   "source": [
    "### Navigation"
   ]
  },
  {
   "cell_type": "markdown",
   "metadata": {},
   "source": [
    "Mit den Pfeiltasten können Sie von Zelle zu Zelle navigieren.  \n",
    "Mit ```Return``` gelangen Sie in den *Edit-Mode* und mit ```ESC``` wieder zurück in den *Command-Mode*.  \n",
    "Im *Command-Mode* können Sie mit der Taste ```a``` bzw. ```b``` eine leere Zelle über bzw. unter der aktuellen Zelle erzeugen.  \n",
    "Mit der ```h``` können Sie ein Hilfe-Menü aufrufen.\n",
    "\n",
    "**Aufgabe:** Machen Sie sich ein wenig mit der Navigation vertraut."
   ]
  },
  {
   "cell_type": "markdown",
   "metadata": {},
   "source": [
    "### Zelltypen"
   ]
  },
  {
   "cell_type": "markdown",
   "metadata": {},
   "source": [
    "In Jupyter Notebooks werden hauptsächlich zwei Zellen unterschieden:\n",
    "    1. Markdown-Zellen\n",
    "    2. Code-Zellen\n",
    "\n",
    "Eine Zelle kann nicht gleichzeitig Code und Text enthalten. Den Typ der Zelle wählen Sie mit dem Dropdown-Menü am oberen Rand des Notebooks.\n",
    "\n",
    "Markdown-Zellen, sind Zellen die geschriebenen Text enthalten. Sie heissen *Markdown*-Zellen, weil man den Text mit einer Auszeichnungssprache namens *Markdown* formatieren kann. Damit können Sie beipielsweise Überschriften größer erscheinen lassen, Text kursiv darstellen, Listen erstellen etc.  \n",
    "\n",
    "Wenn Sie am Anfang und am Ende eines Wortes oder Satzes ein Stern schreiben, dann wird dieser Text kursiv dargestellt. (```*Kursiv*``` -> *Kursiv*).\n",
    "Wenn Sie am Anfang und am Ende eines Wortes oder Satzes zwei Sterne schreiben, dann wird dieser Text fett dargestellt. (```**Fett**``` -> **Fett**).\n",
    "\n",
    "Mehr zum Thema *Markdown* finden Sie zum Beispiel bei [Wikipedia](https://de.wikipedia.org/wiki/Markdown), dem [Markdown Cheatsheet](https://github.com/adam-p/markdown-here/wiki/Markdown-Cheatsheet) oder mit Hilfe einer Suchmaschine Ihrer Wahl.\n",
    "\n",
    "**Aufgabe:** Ändern Sie den Typ der **nachfolgenden** Zelle von *Code* nach *Markdown* und experimentieren Sie ein bisschen mit den Möglichkeiten. "
   ]
  },
  {
   "cell_type": "markdown",
   "metadata": {},
   "source": []
  },
  {
   "cell_type": "markdown",
   "metadata": {},
   "source": [
    "Der für dieses Praktikum viel wichtigere Zelltyp ist die Code-Zelle. In Code-Zellen können Sie Ihre Programme in Python schreiben und ausführen. Das Ergebnis wird unmittelbar unter der jeweiligen Zelle ausgegeben. Dazu ein kleines Beispiel. \n",
    "\n",
    "**Aufgabe:** Führen Sie die folgende Zelle aus."
   ]
  },
  {
   "cell_type": "code",
   "execution_count": 1,
   "metadata": {},
   "outputs": [
    {
     "name": "stdout",
     "output_type": "stream",
     "text": [
      "Hello World!\n"
     ]
    }
   ],
   "source": [
    "print(\"Hello World!\")"
   ]
  },
  {
   "cell_type": "markdown",
   "metadata": {},
   "source": [
    "Wie Sie sehen, wurde der Python-Befehl ausgeführt und das Ergebnis unter der Zelle ausgegeben."
   ]
  },
  {
   "cell_type": "markdown",
   "metadata": {},
   "source": [
    "## Python"
   ]
  },
  {
   "cell_type": "markdown",
   "metadata": {},
   "source": [
    "In der Vorlesung haben Sie einiges über Python gehört. Das wollen wir nun ausprobieren und üben. Wir verwenden Python in der Version 3.x. Umfangreiche Hilfe finden Sie auf der [Python Webseite](https://www.python.org/) unter *Documentation*. Die [Python3 Documentation](https://docs.python.org/3/)] dürfte am interessantesten sein. Dort finden Sie auch einen Link zu der [Python Standard Library](https://docs.python.org/3/library/index.html), wo Sie Hilfe zu den Funktionen aller mitgelieferten Module bekommen. Unter dem Link zur Python Library Reference steht, \"keep this under your pillow\" :-)\n",
    "\n",
    "Da Python eine sehr beliebte Programmiersprache ist, finden Sie auch überall im Internet Hilfe zu Problemen. Suchen Sie einfach mal mit einer Suchmaschine Ihrer Wahl und sie werden garantiert fündig.\n",
    "\n",
    "**In diesem Praktikum können wir nicht auf alle Details der Sprache Python eingehen. Daher wird von Ihnen auch ein wenig Selbststudium und Eigeninitiative verlangt, falls Sie mal nicht weiterkommen sollten.**"
   ]
  },
  {
   "cell_type": "markdown",
   "metadata": {},
   "source": [
    "### Variablen , logische und arithmetrische Operationen"
   ]
  },
  {
   "cell_type": "markdown",
   "metadata": {},
   "source": [
    "**Aufgabe:** Legen Sie in der folgenden Zelle zwei Variablen ```a``` und ```b``` mit den Werten 5 und 10 an und geben Sie sie mit einem einzigen ```print```-Befehl aus."
   ]
  },
  {
   "cell_type": "code",
   "execution_count": 2,
   "metadata": {},
   "outputs": [
    {
     "name": "stdout",
     "output_type": "stream",
     "text": [
      "5\n",
      "10\n"
     ]
    }
   ],
   "source": [
    "a = 5\n",
    "b = 10\n",
    "print(a)\n",
    "print(b)"
   ]
  },
  {
   "cell_type": "markdown",
   "metadata": {},
   "source": [
    "**Aufgabe:** Vergleichen Sie in der folgenden Zelle, ob ```a``` kleiner oder gleich ```b``` ist und speichern Sie das Ergebnis in einer neuen Variablen ```x``` ab. Geben Sie anschließend den Wert von ```x``` aus."
   ]
  },
  {
   "cell_type": "code",
   "execution_count": 3,
   "metadata": {},
   "outputs": [
    {
     "name": "stdout",
     "output_type": "stream",
     "text": [
      "True\n"
     ]
    }
   ],
   "source": [
    "a = 5\n",
    "b = 10\n",
    "x = a<= b\n",
    "print (x)"
   ]
  },
  {
   "cell_type": "markdown",
   "metadata": {},
   "source": [
    "**Aufgabe:** Legen Sie nun zwei weitere Variablen ```c``` und ```d``` mit den Werten 3 und 8 an. Vergleichen Sie dann, ob beide Variablen den gleichen Wert enthalten. Speichern Sie das Ergebnis in einer Variablen ```y``` ab und geben es dann aus."
   ]
  },
  {
   "cell_type": "code",
   "execution_count": 4,
   "metadata": {},
   "outputs": [
    {
     "name": "stdout",
     "output_type": "stream",
     "text": [
      "False\n"
     ]
    }
   ],
   "source": [
    "c = 3\n",
    "d = 8\n",
    "y = c==d\n",
    "print(y)\n"
   ]
  },
  {
   "cell_type": "markdown",
   "metadata": {},
   "source": [
    "**Aufgabe:** Formulieren Sie den folgenden Ausdruck in Python: ```(a gleich b) oder (c gleich d)```."
   ]
  },
  {
   "cell_type": "code",
   "execution_count": 5,
   "metadata": {},
   "outputs": [
    {
     "data": {
      "text/plain": [
       "False"
      ]
     },
     "execution_count": 5,
     "metadata": {},
     "output_type": "execute_result"
    }
   ],
   "source": [
    "a==b or c==d "
   ]
  },
  {
   "cell_type": "markdown",
   "metadata": {},
   "source": [
    "**Aufgabe:** Berechnen Sie mit Python den Rest der der Ganzzahldivision 8//3. Hinweis: Dafür gibt es einen speziellen Operator. "
   ]
  },
  {
   "cell_type": "code",
   "execution_count": 6,
   "metadata": {},
   "outputs": [
    {
     "data": {
      "text/plain": [
       "2"
      ]
     },
     "execution_count": 6,
     "metadata": {},
     "output_type": "execute_result"
    }
   ],
   "source": [
    "8%3"
   ]
  },
  {
   "cell_type": "markdown",
   "metadata": {},
   "source": [
    "**Aufgabe:** Ein Analog/Digital-Wandlwer hat eine Auflösung von 16 Bit. Wie viele verschiedenen digitale Werte können dargestellt werden? Berechnen Sie das Ergebnis mit einem Python Ausdruck."
   ]
  },
  {
   "cell_type": "code",
   "execution_count": 7,
   "metadata": {},
   "outputs": [
    {
     "name": "stdout",
     "output_type": "stream",
     "text": [
      "65536\n"
     ]
    }
   ],
   "source": [
    "erg = 2**16\n",
    "print(erg)"
   ]
  },
  {
   "cell_type": "markdown",
   "metadata": {},
   "source": [
    "**Aufgabe:** In einem CT Datensatz hat ein Voxel ein Volumen von 0.5 x 0.5 x 1.0 $\\text{mm}^3$. Eine Segmentierung eines Tumors umfasst 34567 Voxel. Schreiben sie ein Python Programm, welches das Volumen des Tumors berechnet und in einer Variablen ```vol_tumor``` speichert. Geben Sie das Ergebnis aus."
   ]
  },
  {
   "cell_type": "code",
   "execution_count": 8,
   "metadata": {},
   "outputs": [
    {
     "name": "stdout",
     "output_type": "stream",
     "text": [
      "8641.75\n"
     ]
    }
   ],
   "source": [
    "vol_tumor = 0.5*0.5*1*34567\n",
    "print(vol_tumor)"
   ]
  },
  {
   "cell_type": "markdown",
   "metadata": {},
   "source": [
    "## Kontrollstrukturen"
   ]
  },
  {
   "cell_type": "markdown",
   "metadata": {},
   "source": [
    "**Aufgabe:** Übersetzen sie folgendes nach Python: ```Wenn c kleiner als a ist, dann gib den String \"c<a\" aus, ansonsten gib den String \"c>=a\" aus.```"
   ]
  },
  {
   "cell_type": "code",
   "execution_count": 9,
   "metadata": {},
   "outputs": [
    {
     "name": "stdout",
     "output_type": "stream",
     "text": [
      "c<a\n"
     ]
    }
   ],
   "source": [
    "if c < a:\n",
    "   print('c<a')\n",
    "else: \n",
    "    print('c>=a')"
   ]
  },
  {
   "cell_type": "markdown",
   "metadata": {},
   "source": [
    "**Aufgabe:** Geben Sie mit Hilfe einer for-Schleife die Zahlen von 0 bis 9 aus.  \n",
    "Hinweis: Sehen sie sich dazu die ```range``` Funktion an ([Link](https://docs.python.org/3/library/stdtypes.html#range))."
   ]
  },
  {
   "cell_type": "code",
   "execution_count": 10,
   "metadata": {},
   "outputs": [
    {
     "name": "stdout",
     "output_type": "stream",
     "text": [
      "0\n",
      "1\n",
      "2\n",
      "3\n",
      "4\n",
      "5\n",
      "6\n",
      "7\n",
      "8\n",
      "9\n"
     ]
    }
   ],
   "source": [
    "for i in range(0,10):\n",
    "    print(i)\n"
   ]
  },
  {
   "cell_type": "markdown",
   "metadata": {},
   "source": [
    "**Aufgabe:** Geben Sie mit Hilfe einer for-Schleife die Zahlen von 1 bis 10 aus."
   ]
  },
  {
   "cell_type": "code",
   "execution_count": 11,
   "metadata": {},
   "outputs": [
    {
     "name": "stdout",
     "output_type": "stream",
     "text": [
      "0\n",
      "1\n",
      "2\n",
      "3\n",
      "4\n",
      "5\n",
      "6\n",
      "7\n",
      "8\n",
      "9\n",
      "10\n"
     ]
    }
   ],
   "source": [
    "for i in range(0,11):\n",
    "    print(i)"
   ]
  },
  {
   "cell_type": "markdown",
   "metadata": {},
   "source": [
    "**Aufgabe:** Berechnen sie mit Hilfe einer for-Schleife $\\sum^{99}_{i=0} i$. Das Ergebnis soll in einer Variablen ```sum``` abgespeichert werden. Geben Sie das Ergebnis direkt nach der Berechnung aus."
   ]
  },
  {
   "cell_type": "code",
   "execution_count": 12,
   "metadata": {},
   "outputs": [
    {
     "name": "stdout",
     "output_type": "stream",
     "text": [
      "4950\n"
     ]
    }
   ],
   "source": [
    "sum=0\n",
    "for i in range(0,100): \n",
    "    sum = sum + i\n",
    "print(sum)"
   ]
  },
  {
   "cell_type": "markdown",
   "metadata": {},
   "source": [
    "## Module"
   ]
  },
  {
   "cell_type": "markdown",
   "metadata": {},
   "source": [
    "Python ist u.a. deshalb sehr beliebt, weil für fast jede Aufgabe ein Modul existiert. Beispielsweise seien an dieser Stelle die Module ```math``` und ```numpy``` genannt. Ersteres wird standardmäßig mit Python mitgeliefert und enthält viele mathematische Funktionen und Konstanten. Letzteres muss zusätzlich installiert werden und vereinfach das rechnen mit Matrizen und Vektoren."
   ]
  },
  {
   "cell_type": "markdown",
   "metadata": {},
   "source": [
    "**Aufgabe:** Importieren Sie das modul ```math```."
   ]
  },
  {
   "cell_type": "code",
   "execution_count": 13,
   "metadata": {},
   "outputs": [],
   "source": [
    "import numpy as np\n",
    "import math"
   ]
  },
  {
   "cell_type": "markdown",
   "metadata": {},
   "source": [
    "Mit der Hounsfield-Skala wird in der Computertomographie die Abschwächung der Röntgenstrahlung durch das Gewebe beschrieben. Bei der Darstellung der CT-Bilder werden genau diese Werte Visualisiert. Man kann Wertebereiche bestimmten Gewebearten zuordnen und dadurch Abweichungen von der Norm erkennen. Mehr dazu finden sie bei [Wikipedia](https://en.wikipedia.org/wiki/Hounsfield_scale).\n",
    "\n",
    "**Aufgabe:** Für eine Bildregion haben Sie als Mittwelwert der Intensitätswerte 60 HU mit einer Varianz von $s^2 = 36 \\text{ HU}^2$ berechnet. Berechnen Sie die Standardabweichung mit dem Mathe-Modul. "
   ]
  },
  {
   "cell_type": "code",
   "execution_count": 14,
   "metadata": {},
   "outputs": [
    {
     "name": "stdout",
     "output_type": "stream",
     "text": [
      "6.0\n"
     ]
    }
   ],
   "source": [
    "sigma = math.sqrt(36)\n",
    "print(sigma)"
   ]
  },
  {
   "cell_type": "markdown",
   "metadata": {},
   "source": [
    "**Aufgabe:** Um welches Organ können es sich bei den gegebenen Werten handeln?"
   ]
  },
  {
   "cell_type": "markdown",
   "metadata": {},
   "source": [
    "Antwort: "
   ]
  },
  {
   "cell_type": "markdown",
   "metadata": {},
   "source": [
    "## Listen"
   ]
  },
  {
   "cell_type": "markdown",
   "metadata": {},
   "source": [
    "Listen in Python können beliebige Objekte enthalten, z.B. Zahlen, Strings, Tupel etc. Die folgenden Ausdrücke erzeugen alle gültige Listen. Versuchen Sie zu verstehen, wie genau die folgenden Listen erzeugt werden."
   ]
  },
  {
   "cell_type": "code",
   "execution_count": 15,
   "metadata": {},
   "outputs": [
    {
     "name": "stdout",
     "output_type": "stream",
     "text": [
      "[1, 2, 3, 4, 5]\n",
      "[1, 2, 3, 4, 5]\n",
      "[1, 2, 3, 4, 5]\n",
      "[1, 2, 3, 4, 5]\n"
     ]
    }
   ],
   "source": [
    "l1 = [1,2,3,4,5]\n",
    "\n",
    "l2 = []\n",
    "for i in range(1,6):\n",
    "    l2.append(i)\n",
    "    \n",
    "l3 = [i for i in range(1,6)] # Das nennt man \"list comprehension\"\n",
    "\n",
    "l4 = list(range(1,6))\n",
    "\n",
    "print(l1)\n",
    "print(l2)\n",
    "print(l3)\n",
    "print(l4)"
   ]
  },
  {
   "cell_type": "markdown",
   "metadata": {},
   "source": [
    "**Aufgabe:** Schreiben Sie ein Python Programm welches überprüft, ob der Wert \"3\" in der Liste ```l1``` vorkommt. Geben Sie True oder False aus.\n",
    "Hinweis: Sie müssen nicht über die gesamte Liste iterieren."
   ]
  },
  {
   "cell_type": "code",
   "execution_count": 16,
   "metadata": {},
   "outputs": [
    {
     "name": "stdout",
     "output_type": "stream",
     "text": [
      "True\n"
     ]
    }
   ],
   "source": [
    "flag = 0\n",
    "for i in range(0,len(l1)): \n",
    "    if l1[i] == 3: \n",
    "        print('True')\n",
    "        flag = 1\n",
    "        break\n",
    "if flag == 0:\n",
    "    print('False')"
   ]
  },
  {
   "cell_type": "markdown",
   "metadata": {},
   "source": [
    "**Aufgabe:** Berechnen Sie Umfang des Wertebereichs ```max-min``` der Liste ```l1``` und geben Sie das Ergebnis aus."
   ]
  },
  {
   "cell_type": "code",
   "execution_count": 17,
   "metadata": {},
   "outputs": [
    {
     "name": "stdout",
     "output_type": "stream",
     "text": [
      "4\n"
     ]
    }
   ],
   "source": [
    "max = np.max(l1)\n",
    "min = np.min(l1)\n",
    "delta = max - min\n",
    "print(delta)"
   ]
  },
  {
   "cell_type": "markdown",
   "metadata": {},
   "source": [
    "Sie können den ```in``` Operator auch in einer for-Schleife verwenden, um über die Elemente einer liste zu iterieren.\n",
    "\n",
    "**Aufgabe:** Berechnen sie mit Hilfe einer for-Schleife $\\sum^{lenght(l1)-1}_{i=0} l1[i]$. Geben Sie das Ergebnis direkt nach der Berechnung aus."
   ]
  },
  {
   "cell_type": "code",
   "execution_count": 18,
   "metadata": {},
   "outputs": [
    {
     "name": "stdout",
     "output_type": "stream",
     "text": [
      "15\n"
     ]
    }
   ],
   "source": [
    "sum = 0\n",
    "for i in range(0,len(l1)):\n",
    "    sum = sum + l1[i]\n",
    "print(sum)"
   ]
  },
  {
   "cell_type": "markdown",
   "metadata": {},
   "source": [
    "## Numpy"
   ]
  },
  {
   "cell_type": "markdown",
   "metadata": {},
   "source": [
    "Zitat aus Wikipedia: \"NumPy ist eine Programmbibliothek für die Programmiersprache Python, die eine einfache Handhabung von Vektoren, Matrizen oder generell großen mehrdimensionalen Arrays ermöglicht. Neben den Datenstrukturen bietet NumPy auch effizient implementierte Funktionen für numerische Berechnungen an.\"\n",
    "\n",
    "Viele Module zur Bildverarbeitung bieten Möglichkeiten die eingelesenen Daten in ein Numpy-Array zu konvertieren, bzw. aus einem Numpy-Array einzulesen."
   ]
  },
  {
   "cell_type": "markdown",
   "metadata": {},
   "source": [
    "Das [Numpy Manual](https://docs.scipy.org/doc/numpy/) bietet Hilfe zu allen Numpy Funktionen, sowie Tutorials und eine Gegenüberstellung von Matlab und Numpy."
   ]
  },
  {
   "cell_type": "markdown",
   "metadata": {},
   "source": [
    "**Aufgabe:** Importieren Sie das ```numpy``` Modul und nennen es ```np```."
   ]
  },
  {
   "cell_type": "code",
   "execution_count": 19,
   "metadata": {},
   "outputs": [],
   "source": [
    "import numpy as np"
   ]
  },
  {
   "cell_type": "markdown",
   "metadata": {},
   "source": [
    "**Aufgabe:** erzeugen Sie aus der Liste l1 ein Numpy-Array mit dem namen ```l1n```."
   ]
  },
  {
   "cell_type": "code",
   "execution_count": 20,
   "metadata": {},
   "outputs": [
    {
     "name": "stdout",
     "output_type": "stream",
     "text": [
      "<class 'numpy.ndarray'>\n"
     ]
    }
   ],
   "source": [
    "l1n = np.asarray(l1)\n",
    "print(type(l1n))"
   ]
  },
  {
   "cell_type": "markdown",
   "metadata": {},
   "source": [
    "```l1n``` ist nun ein Vektor mit dem Sie rechnen könnne. Die Dimensionen des arrays können Sie mit ```.shape``` ermitteln."
   ]
  },
  {
   "cell_type": "code",
   "execution_count": 21,
   "metadata": {},
   "outputs": [
    {
     "name": "stdout",
     "output_type": "stream",
     "text": [
      "(5,)\n"
     ]
    }
   ],
   "source": [
    "print(l1n.shape)"
   ]
  },
  {
   "cell_type": "markdown",
   "metadata": {},
   "source": [
    "**Aufgabe:** Potenzieren Sie l1n elementweise mit 2."
   ]
  },
  {
   "cell_type": "code",
   "execution_count": 22,
   "metadata": {},
   "outputs": [
    {
     "name": "stdout",
     "output_type": "stream",
     "text": [
      "[ 1  4  9 16 25]\n"
     ]
    }
   ],
   "source": [
    "l1n = l1n**2\n",
    "print(l1n)"
   ]
  },
  {
   "cell_type": "markdown",
   "metadata": {},
   "source": [
    "**Aufgabe:** Das funktioniert auch für n-Dimensionale Arrays. Erzeugen Sie ein 5x5 großes Array mit zufälligen Werten. Nennen sie das Array ```image```. Geben Sie das Array aus.  \n",
    "\n",
    "Hinweise: Schauen Sie sich die Numpyfunktion ```numpy.random.rand``` an."
   ]
  },
  {
   "cell_type": "code",
   "execution_count": 23,
   "metadata": {},
   "outputs": [
    {
     "name": "stdout",
     "output_type": "stream",
     "text": [
      "[[0.8910675  0.55064889 0.43222161 0.76568911 0.52560727]\n",
      " [0.62509997 0.68065916 0.22553526 0.57264736 0.43996122]\n",
      " [0.31483542 0.07870694 0.77863943 0.78597229 0.35635075]\n",
      " [0.10564766 0.12349736 0.5994464  0.88712996 0.67553353]\n",
      " [0.1739779  0.039912   0.78856469 0.47474834 0.65602565]]\n"
     ]
    }
   ],
   "source": [
    "image = np.random.rand(5,5)\n",
    "print(image)"
   ]
  },
  {
   "cell_type": "markdown",
   "metadata": {},
   "source": [
    "Das Array besteht nun aus zufälligen reellen Zahlen im Wertebereich [0,1]. Als nächstes wollen wir ganze Zahlen im Wertbereich [0,10].\n",
    "\n",
    "**Aufgabe:** Multiplizieren Sie das Array ```image``` elementweise mit 10 und wandeln den Datentyp in \"uint8\" um. Das Ergebnis soll wieder in der Variablen ```image``` gespeichert werden.  Geben sie das Ergebnis aus.\n",
    "\n",
    "Hinweis: Nutzen Sie zur Umwandlung ```.astype(...)```:"
   ]
  },
  {
   "cell_type": "code",
   "execution_count": 64,
   "metadata": {
    "scrolled": true
   },
   "outputs": [
    {
     "name": "stdout",
     "output_type": "stream",
     "text": [
      "[[   0   64    0  -64   64]\n",
      " [-128 -128 -128   64    0]\n",
      " [ -64    0  -64  -64  -64]\n",
      " [  64   64   64    0 -128]\n",
      " [  64    0  -64    0 -128]]\n"
     ]
    }
   ],
   "source": [
    "image = image*10\n",
    "image = np.int8(image)\n",
    "print(image)"
   ]
  },
  {
   "cell_type": "markdown",
   "metadata": {},
   "source": [
    "### Matplotlib"
   ]
  },
  {
   "cell_type": "markdown",
   "metadata": {},
   "source": [
    "Aus der Vorlesung sollte Ihnen bekannt sein, dass 2-D Bilder als 2-D Arrays repräsentiert werden. D.h. Sie haben gerade ein Bild erzeugt, welches zufällige Werte enthält. Mit dem Modul [matplotlib](https://matplotlib.org/index.html) können Sie ein 2-D Array als Bild ausgeben. Führen Sie dazu die folgenden Zelle aus. "
   ]
  },
  {
   "cell_type": "code",
   "execution_count": 53,
   "metadata": {},
   "outputs": [
    {
     "data": {
      "image/png": "[encoded data removed]",
      "text/plain": [
       "<matplotlib.figure.Figure at 0x7f90e04d6710>"
      ]
     },
     "metadata": {
      "needs_background": "light"
     },
     "output_type": "display_data"
    }
   ],
   "source": [
    "from matplotlib import pyplot as plt\n",
    "plt.imshow(image)\n",
    "plt.show()"
   ]
  },
  {
   "cell_type": "markdown",
   "metadata": {},
   "source": [
    "Da es nicht immer vorteilhaft ist, Ausgaben untereinander zu plotten, können Sie auch Plots auch nebeneinander anzeigen lassen. Führen Sie dazu die folgende Zelle aus."
   ]
  },
  {
   "cell_type": "code",
   "execution_count": 26,
   "metadata": {},
   "outputs": [
    {
     "data": {
      "image/png": "[encoded data removed]",
      "text/plain": [
       "<matplotlib.figure.Figure at 0x7f90e505ac18>"
      ]
     },
     "metadata": {
      "needs_background": "light"
     },
     "output_type": "display_data"
    }
   ],
   "source": [
    "for i in range(3):\n",
    "    plt.subplot(1,3,i+1)\n",
    "    plt.imshow(image)\n",
    "plt.show()"
   ]
  },
  {
   "cell_type": "markdown",
   "metadata": {},
   "source": [
    "### Zurück zu Numpy"
   ]
  },
  {
   "cell_type": "markdown",
   "metadata": {},
   "source": [
    "**Aufgabe:** Berechnen Sie den durchschnittlichen Wert aller Array-Elemente von ```image```.\n",
    "\n",
    "Hinweis: Mit ```.sum()``` können Sie die Summe aller Array-Elemente berechnen und mit ```.size``` die Anzahl der Elemente bestimmen."
   ]
  },
  {
   "cell_type": "code",
   "execution_count": 59,
   "metadata": {},
   "outputs": [
    {
     "name": "stdout",
     "output_type": "stream",
     "text": [
      "-16.64\n"
     ]
    }
   ],
   "source": [
    "mean1 = image.sum()/image.size\n",
    "print(mean1)"
   ]
  },
  {
   "cell_type": "markdown",
   "metadata": {},
   "source": [
    "**Aufgabe:** Der durchnittliche Wert aller Array-Elemente lässt sich noch einfacher berechnen. Finden Sie anhand der Numpy-Dokumentation heraus, wie das geht und probieren Sie es aus. Das Ergebnis sollte identisch mit der vorherigen variante sein."
   ]
  },
  {
   "cell_type": "code",
   "execution_count": 57,
   "metadata": {},
   "outputs": [
    {
     "name": "stdout",
     "output_type": "stream",
     "text": [
      "-16.64\n"
     ]
    }
   ],
   "source": [
    "mean2 = image.mean()\n",
    "print(mean2)"
   ]
  },
  {
   "cell_type": "markdown",
   "metadata": {},
   "source": [
    "Die Werte in einem Numpy-Arrays lassen sich auf sehr einfache Art und Weise filtern, indem eine boolsche Masken mit Hilfe eines Vergleichsoperators erzeugt wird. Zum Beispiel kann eine boolsche Maske für alle Wert > 5 folgendermaßen erzeugt werden:"
   ]
  },
  {
   "cell_type": "code",
   "execution_count": 29,
   "metadata": {},
   "outputs": [
    {
     "name": "stdout",
     "output_type": "stream",
     "text": [
      "[[ True False False  True False]\n",
      " [ True  True False False False]\n",
      " [False False  True  True False]\n",
      " [False False False  True  True]\n",
      " [False False  True False  True]]\n"
     ]
    }
   ],
   "source": [
    "mask = image > 5\n",
    "print(mask)"
   ]
  },
  {
   "cell_type": "markdown",
   "metadata": {},
   "source": [
    "Überall wo der Wert des Arrays größer 5 ist steht in der maske True. Alle anderen Stellen sind False. Die Maske können Sie nun verwenden, um auf die Elemente zuzugreifen, die True sind, indem Sie die Maske in eckigen Klammern übergeben."
   ]
  },
  {
   "cell_type": "code",
   "execution_count": 30,
   "metadata": {},
   "outputs": [
    {
     "name": "stdout",
     "output_type": "stream",
     "text": [
      "[8 7 6 6 7 7 8 6 7 6]\n"
     ]
    }
   ],
   "source": [
    "print(image[mask])"
   ]
  },
  {
   "cell_type": "markdown",
   "metadata": {},
   "source": [
    "**Aufgabe:** Berechnen Sie den Durchschnittswert aller Werte des Arrays ```image```, die größer als 6 sind."
   ]
  },
  {
   "cell_type": "code",
   "execution_count": 31,
   "metadata": {},
   "outputs": [
    {
     "name": "stdout",
     "output_type": "stream",
     "text": [
      "7.333333333333333\n"
     ]
    }
   ],
   "source": [
    "avg = image[(image>6)].mean()\n",
    "print(avg)"
   ]
  },
  {
   "cell_type": "markdown",
   "metadata": {},
   "source": [
    "Ein wichtiger Aspekt der Numpy-Arrays ist die [Indizierung und das Slicing](https://docs.scipy.org/doc/numpy-1.14.0/reference/arrays.indexing.html). Sie können in eckigen Klammern angeben, auf welche Elemente des Arrays Sie zugreifen möchten. Versuchen Sie die folgenden Beispiele zu verstehen:"
   ]
  },
  {
   "cell_type": "code",
   "execution_count": 32,
   "metadata": {},
   "outputs": [
    {
     "name": "stdout",
     "output_type": "stream",
     "text": [
      "3\n",
      "[3 4]\n",
      "[1 3 5]\n",
      "[1 3 5]\n"
     ]
    }
   ],
   "source": [
    "a = np.array([1,2,3,4,5]) # Array definieren\n",
    "\n",
    "print( a[2] ) # Adressiert das 3. Element (wir fangen bei 0 an zu zählen, Eigenart der Informatiker ;)\n",
    "\n",
    "print( a[2:4] ) # Adressiert die Elemente 2-4\n",
    "\n",
    "print( a[0:6:2]) # Adressiert jedes zweite Element\n",
    "print( a[::2] )  # Kürzere Schreibweise"
   ]
  },
  {
   "cell_type": "markdown",
   "metadata": {},
   "source": [
    "Das Array-Slicing kann auch für Zuweisungen an Sub-Arrays verwendet werden. Damit können Sie dann sehr komfortabel viele Werte auf einmal ändern.  "
   ]
  },
  {
   "cell_type": "code",
   "execution_count": 33,
   "metadata": {},
   "outputs": [],
   "source": [
    "image2 = image.copy() # ohne .copy() würde kein neues Array, sondern nur eine Referenz erzeugt werden"
   ]
  },
  {
   "cell_type": "markdown",
   "metadata": {},
   "source": [
    "**Aufgabe:** Setzen Sie alle Werte des inneren 3x3 Sub-Arrays von image2 auf 0. Geben Sie das Array mit ```print``` aus und zeigen Sie das \"Bild\" mit ```imshow``` an.\n",
    "\n",
    "D.h. nachdem Ihr Code ausgeführt wurde sollte image2 in etwa so aussehen:\n",
    "\n",
    "```\n",
    "[[0 8 8 8 4]\n",
    " [1 0 0 0 8]\n",
    " [5 0 0 0 9]\n",
    " [6 0 0 0 0]\n",
    " [1 2 4 9 1]]\n",
    "```"
   ]
  },
  {
   "cell_type": "code",
   "execution_count": 66,
   "metadata": {},
   "outputs": [
    {
     "name": "stdout",
     "output_type": "stream",
     "text": [
      "[[8 5 4 7 5]\n",
      " [6 0 0 0 4]\n",
      " [3 0 0 0 3]\n",
      " [1 0 0 0 6]\n",
      " [1 0 7 4 6]]\n"
     ]
    },
    {
     "data": {
      "image/png": "[encoded data removed]",
      "text/plain": [
       "<matplotlib.figure.Figure at 0x7f90e051ab70>"
      ]
     },
     "metadata": {
      "needs_background": "light"
     },
     "output_type": "display_data"
    }
   ],
   "source": [
    "for i in range(1,4):\n",
    "    for j in range(1,4):\n",
    "        image2[i,j] = 0\n",
    "from matplotlib import pyplot\n",
    "pyplot.imshow(image2)\n",
    "\n",
    "print(image2)\n"
   ]
  },
  {
   "cell_type": "markdown",
   "metadata": {},
   "source": [
    "***Aufgabe:*** Schreiben Sie ein Programm welches mit Hilfe von Numpy das folgende Gleichungssystem löst, d.h. berechnen Sie $[x,y,z]^T$:\n",
    "\n",
    "```\n",
    " 1*x + 0*y + 2*z = 1  \n",
    "-1*x + 2*y + 1*z = 3  \n",
    " 1*x + 1*y + 2*z = 3\n",
    "```\n",
    "Kontrollieren sie das Ergebnis, indem Sie den gefundenen Lösungsvektor mit der Koeffizientenmatrix multiplizieren (nicht elementweise!) und ausgeben."
   ]
  },
  {
   "cell_type": "code",
   "execution_count": 82,
   "metadata": {},
   "outputs": [
    {
     "name": "stdout",
     "output_type": "stream",
     "text": [
      "[[ 1.]\n",
      " [ 2.]\n",
      " [-0.]]\n"
     ]
    }
   ],
   "source": [
    "a = np.array([[1,0,2],[-1,2,1],[1,1,2]])\n",
    "b = np.array([1,3,3])\n",
    "print(np.array([np.linalg.solve(a,b)]).T)\n",
    "del a,b"
   ]
  },
  {
   "cell_type": "markdown",
   "metadata": {},
   "source": [
    "## Funktionen"
   ]
  },
  {
   "cell_type": "markdown",
   "metadata": {},
   "source": [
    "Oft möchten Sie ein und dieselbe Funktionalität für verschiedene Objekte ausführen. Beispielsweise haben Sie eine Liste von segmentieten Tumoren und Sie möchten für jeden Tumor das Volumen berechnen. Anstatt nun immer und immer wieder die gleiche Formel hinschreiben zu müssen, können Sie diese Funktionalität in einer [Funktion verpacken](https://docs.python.org/3/tutorial/controlflow.html#defining-functions). Funktionen werden in Python folgendermaßen definiert:\n",
    "\n",
    "```\n",
    "def function_name(parameters):\n",
    "    return value\n",
    "```"
   ]
  },
  {
   "cell_type": "markdown",
   "metadata": {},
   "source": [
    "**Aufgabe:** Bei der Vermessung eines Tumors wird häufig die größte Axiale Distanz zwischen zwei Punkten am Rand des Tumors gemessen. D.h. der Radiologe klickt an den entsprechenden Stellen zweimal. Unter der Haube ist jeder Klick mit x,y Koordinaten assoziert.\n",
    "\n",
    "Definieren Sie eine Funktion mit dem Namen ```calculate_distance```, welche als Parameter zwei Numpy-Arrays der Dimension (2,) erwarte und als Ergebnis die euklidische Distanz liefert. "
   ]
  },
  {
   "cell_type": "code",
   "execution_count": 36,
   "metadata": {},
   "outputs": [],
   "source": [
    "import math\n",
    "def calculate_distance(arr1, arr2):\n",
    "    value = math.sqrt((arr1[0]-arr2[0])**2 + (arr1[1]-arr2[1])**2)\n",
    "    return value"
   ]
  },
  {
   "cell_type": "markdown",
   "metadata": {},
   "source": [
    "Jetzt testen wir Ihre Funktion. Das Ergebnis sollte 14.142135623730951 sein:"
   ]
  },
  {
   "cell_type": "code",
   "execution_count": 37,
   "metadata": {},
   "outputs": [
    {
     "name": "stdout",
     "output_type": "stream",
     "text": [
      "14.142135623730951\n"
     ]
    }
   ],
   "source": [
    "arr1=np.array([0,0])\n",
    "arr2=np.array([10,10])\n",
    "print( calculate_distance(arr1,arr2) )"
   ]
  },
  {
   "cell_type": "markdown",
   "metadata": {},
   "source": [
    "Der Body-Mass-Index (BMI) ist eine Maßzahl für die Bewertung des Körpergewichts eines Menschen in Relation zu seiner Körpergröße. Er wird nach der folgenden Formel berechnet:\n",
    "\n",
    "$\\text{BMI}=\\frac{m}{l^2}$\n",
    "\n",
    "wobei m die Körpermasse in Kilogramm und l die Körpergröße in Metern ist."
   ]
  },
  {
   "cell_type": "markdown",
   "metadata": {},
   "source": [
    "**Aufgabe:** Schreiben Sie eine Funktion ```calculate_bmi```, die als Parameter zwei Werte ```weight``` und ```height``` erhält und als Ergebnis den BMI zurückliefert."
   ]
  },
  {
   "cell_type": "code",
   "execution_count": 38,
   "metadata": {},
   "outputs": [],
   "source": [
    "def calculate_bmi(m,l):\n",
    "    bmi = m/l**2\n",
    "    return bmi    "
   ]
  },
  {
   "cell_type": "markdown",
   "metadata": {},
   "source": [
    "**Aufgabe:** Berechnen Sie nun mit Hilfe Ihrer Funktion Ihren BMI und geben Sie das Ergebnis aus. Sie müssen natürlich nicht reale Werte angeben, aber plausibel sollten sie sein."
   ]
  },
  {
   "cell_type": "code",
   "execution_count": 62,
   "metadata": {},
   "outputs": [
    {
     "name": "stdout",
     "output_type": "stream",
     "text": [
      "24.3046178773967\n"
     ]
    }
   ],
   "source": [
    "m = 63\n",
    "l = 1.61\n",
    "print(calculate_bmi(m,l))"
   ]
  },
  {
   "cell_type": "markdown",
   "metadata": {},
   "source": [
    "Wenn sie nicht täglich mit dem BMI zu tun haben, dann fällt es Ihnen wahrscheinlich schwer, diesen Wert einzuschätzen. So geht es bestimmt vielen anderen auch. Wir wollen jetzt die Funktion etwas aufmotzen und Klartext zurück liefern."
   ]
  },
  {
   "cell_type": "markdown",
   "metadata": {},
   "source": [
    "**Aufgabe:** Schreiben Sie eine Funktion ```calculate_bmi2```, die als Parameter wieder ```weight``` und ```height``` übergeben bekommt, aber als Ausgabe diesmal folgenden Text liefert:\n",
    "\n",
    "\"Untergewicht\", wenn der BMI < 18,5 ist.  \n",
    "\"Normalgewicht\", wenn der BMI 18,5 – 25 ist.  \n",
    "\"Übergewicht\", wenn der BMI > 25 ist.  \n",
    "\n",
    "Nutzen Sie in Ihrer neuen Funktion die Funktion ```calculate_bmi```."
   ]
  },
  {
   "cell_type": "code",
   "execution_count": 63,
   "metadata": {},
   "outputs": [],
   "source": [
    "def calculate_bmi2(m,l):\n",
    "    bmi = calculate_bmi(m,l)\n",
    "    if bmi < 18.5:\n",
    "        print('Untergewicht')\n",
    "    if bmi > 25:\n",
    "        print('Übergewicht')\n",
    "    else:\n",
    "        print('Normalgewicht')"
   ]
  },
  {
   "cell_type": "markdown",
   "metadata": {},
   "source": [
    "**Aufgabe:** Berechnen Sie nun mit Hilfe Ihrer neuen Funktion Ihren BMI und geben Sie das Ergebnis aus. Sie müssen natürlich nicht reale Werte angeben, aber plausibel sollten sie sein."
   ]
  },
  {
   "cell_type": "code",
   "execution_count": 67,
   "metadata": {},
   "outputs": [
    {
     "name": "stdout",
     "output_type": "stream",
     "text": [
      "Übergewicht\n"
     ]
    }
   ],
   "source": [
    "m = 60\n",
    "l = 1.5\n",
    "calculate_bmi2(m,l)"
   ]
  },
  {
   "cell_type": "markdown",
   "metadata": {},
   "source": [
    "## SimpleITK"
   ]
  },
  {
   "cell_type": "markdown",
   "metadata": {},
   "source": [
    "Zu guter Letzt wollen wir uns noch ganz kurz das Modul [SimpleITK](http://www.simpleitk.org/) ansehen. SimpleITK bietet viele Algorithmen zur Bildverarbeitung an (Vorverarbeitung, Segmentierung, Registrierung). Es basiert auf dem in der Medical Imaging Community sehr beliebtem [Insight Segmentation&Registration Toolkit](https://itk.org/) (kurz: ITK). ITK ist mächtiger und flexibler nutzbar, als SimpleITK (daher der Name ;)), aber das ist für dieses Praktikum nicht von Bedeutung."
   ]
  },
  {
   "cell_type": "markdown",
   "metadata": {},
   "source": [
    "Führen Sie bitte die nächste Zelle aus, um ein Fundus Bild herunterzuladen."
   ]
  },
  {
   "cell_type": "code",
   "execution_count": 42,
   "metadata": {},
   "outputs": [],
   "source": [
    "import urllib.request\n",
    "_,_ = urllib.request.urlretrieve(\"https://fh-aachen.sciebo.de/s/6CgiEuNWNnDmjfV/download\", \"Fundus.png\")"
   ]
  },
  {
   "cell_type": "markdown",
   "metadata": {},
   "source": [
    "Wie bei andere Module auch, muss SimpleITK erstmal importiert werden. "
   ]
  },
  {
   "cell_type": "code",
   "execution_count": 43,
   "metadata": {},
   "outputs": [],
   "source": [
    "import SimpleITK as sitk"
   ]
  },
  {
   "cell_type": "markdown",
   "metadata": {},
   "source": [
    "Als nächstes nutzen wir simpleITK, um ein Fundus Bild zu laden."
   ]
  },
  {
   "cell_type": "code",
   "execution_count": 44,
   "metadata": {},
   "outputs": [],
   "source": [
    "fundus = sitk.ReadImage(\"Fundus.png\")"
   ]
  },
  {
   "cell_type": "markdown",
   "metadata": {},
   "source": [
    "Als nächstes wollen wir das Bild anzeigen. Dazu konvertieren wir das Bild in ein Numpy-Array."
   ]
  },
  {
   "cell_type": "code",
   "execution_count": 45,
   "metadata": {},
   "outputs": [],
   "source": [
    "fundus_array = sitk.GetArrayFromImage(fundus)"
   ]
  },
  {
   "cell_type": "markdown",
   "metadata": {},
   "source": [
    "**Aufgabe:** Zeigen Sie das Bild an."
   ]
  },
  {
   "cell_type": "code",
   "execution_count": 68,
   "metadata": {},
   "outputs": [
    {
     "data": {
      "text/plain": [
       "<matplotlib.image.AxesImage at 0x7f90dfbc1c50>"
      ]
     },
     "execution_count": 68,
     "metadata": {},
     "output_type": "execute_result"
    },
    {
     "data": {
      "image/png": "[encoded data removed]",
      "text/plain": [
       "<matplotlib.figure.Figure at 0x7f90dfbf6898>"
      ]
     },
     "metadata": {
      "needs_background": "light"
     },
     "output_type": "display_data"
    }
   ],
   "source": [
    "pyplot.imshow(fundus_array)"
   ]
  },
  {
   "cell_type": "markdown",
   "metadata": {},
   "source": [
    "## Matplotlib"
   ]
  },
  {
   "cell_type": "markdown",
   "metadata": {},
   "source": [
    "**Freestyle Aufgabe:** Plotten Sie die Sinus-Funktion mit Hilfe von Numpy und Matplotlib. Experimentieren Sie anschließend mit den unterschiedlichen Möglichkeiten, um Plots zu gestalten (Legenden, Farben, Linienstärken etc.). "
   ]
  },
  {
   "cell_type": "code",
   "execution_count": 47,
   "metadata": {},
   "outputs": [
    {
     "data": {
      "image/png": "[encoded data removed]",
      "text/plain": [
       "<matplotlib.figure.Figure at 0x7f90e04d9470>"
      ]
     },
     "metadata": {
      "needs_background": "light"
     },
     "output_type": "display_data"
    }
   ],
   "source": [
    "import matplotlib.pylab \n",
    "x = np.linspace(-180, 180)\n",
    "matplotlib.pylab.plot(x, np.sin(np.deg2rad(x)))\n",
    "matplotlib.pylab.xlabel('Angle [rad]')\n",
    "matplotlib.pylab.ylabel('sin(x)')\n",
    "matplotlib.pylab.axis('tight')\n",
    "matplotlib.pylab.show()"
   ]
  },
  {
   "cell_type": "markdown",
   "metadata": {},
   "source": [
    "Damit haben Sie das 1. Praktikum geschafft. Herzlichen Glückwunsch!\n",
    "\n",
    "Vergewissern Sie sich, dass alle Zellen ausgeführt und keine Fehlermeldungen entstanden sind. Dzu klicken Sie am besten oben im Menü auf ```Kernel -> Restart & Run all```. Danach klicken Sie im Menü auf ```File -> Download as``` und wählen dor HTML. Speichern Sie die HTML Datei ab, verpacken sie als ZIP Datei (Format: Nachname_Vorname_Praktikum1.zip) und geben Sie diese ZIP Datei in Ilias ab."
   ]
  },
  {
   "cell_type": "code",
   "execution_count": null,
   "metadata": {},
   "outputs": [],
   "source": []
  }
 ],
 "metadata": {
  "hide_input": false,
  "kernelspec": {
   "display_name": "Python 3",
   "language": "python",
   "name": "python3"
  },
  "language_info": {
   "codemirror_mode": {
    "name": "ipython",
    "version": 3
   },
   "file_extension": ".py",
   "mimetype": "text/x-python",
   "name": "python",
   "nbconvert_exporter": "python",
   "pygments_lexer": "ipython3",
   "version": "3.5.4"
  }
 },
 "nbformat": 4,
 "nbformat_minor": 2
}
